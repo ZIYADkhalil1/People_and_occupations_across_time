{
 "cells": [
  {
   "cell_type": "code",
   "execution_count": 12,
   "id": "3757886d",
   "metadata": {},
   "outputs": [],
   "source": [
    "import pandas as pd"
   ]
  },
  {
   "cell_type": "code",
   "execution_count": 22,
   "id": "e09bbb57",
   "metadata": {},
   "outputs": [],
   "source": [
    "def Extract():\n",
    "    data1 = pd.read_csv('dataset1.csv')\n",
    "    data2 = pd.read_csv('dataset2.csv')\n",
    "    return data1,data2"
   ]
  },
  {
   "cell_type": "code",
   "execution_count": 23,
   "id": "6c30484f",
   "metadata": {},
   "outputs": [],
   "source": [
    "data1, data2 = Extract()"
   ]
  },
  {
   "cell_type": "code",
   "execution_count": null,
   "id": "33abb82f",
   "metadata": {},
   "outputs": [],
   "source": []
  },
  {
   "cell_type": "code",
   "execution_count": null,
   "id": "95abfb7f",
   "metadata": {},
   "outputs": [],
   "source": []
  },
  {
   "cell_type": "code",
   "execution_count": null,
   "id": "30b27b9b",
   "metadata": {},
   "outputs": [],
   "source": []
  },
  {
   "cell_type": "code",
   "execution_count": 24,
   "id": "5107dc15",
   "metadata": {},
   "outputs": [],
   "source": [
    "def createNewColumns(data1 , data2):\n",
    "    data2['Age'] = data2['Death year'] - data2['Birth year']\n",
    "    return data1, data2"
   ]
  },
  {
   "cell_type": "code",
   "execution_count": 25,
   "id": "22e3e1f5",
   "metadata": {},
   "outputs": [],
   "source": [
    "def renameColumns(data1, data2):\n",
    "    data1 = data1.rename(columns = {'Short description':'short_description' , 'Age of death' : 'Age'})\n",
    "    data2 = data2.rename(columns = {'Birth year' : 'Birth_year' , 'Death year' : 'Death_year' , 'Manner of death' : 'death_reason'})\n",
    "    return data1, data2\n",
    "    "
   ]
  },
  {
   "cell_type": "code",
   "execution_count": 26,
   "id": "a9b8d408",
   "metadata": {},
   "outputs": [],
   "source": [
    "def attributeTypesTransform(data1,data2):\n",
    "    data1['Age'] = data1['Age'].round().astype(int)\n",
    "    data2['Gender'] = data2['Gender'].replace({1.0 : 'Male' , 2.0 : 'Female'})\n",
    "    data2['Age'] = data2['Age'].round().astype(int)\n",
    "    data2['Death_year'] = data2['Death_year'].round().astype(int)\n",
    "    return data1, data2"
   ]
  },
  {
   "cell_type": "code",
   "execution_count": 27,
   "id": "712103af",
   "metadata": {},
   "outputs": [],
   "source": [
    "data1, data2 = createNewColumns(data1 , data2)"
   ]
  },
  {
   "cell_type": "code",
   "execution_count": 28,
   "id": "1978265b",
   "metadata": {},
   "outputs": [],
   "source": [
    "data1 , data2 = renameColumns(data1, data2)"
   ]
  },
  {
   "cell_type": "code",
   "execution_count": 29,
   "id": "1f394e00",
   "metadata": {},
   "outputs": [],
   "source": [
    "data1 = data1.dropna(subset=['Age'])\n",
    "data1, data2 = attributeTypesTransform(data1,data2)"
   ]
  },
  {
   "cell_type": "code",
   "execution_count": 30,
   "id": "70c65531",
   "metadata": {},
   "outputs": [
    {
     "data": {
      "text/html": [
       "<div>\n",
       "<style scoped>\n",
       "    .dataframe tbody tr th:only-of-type {\n",
       "        vertical-align: middle;\n",
       "    }\n",
       "\n",
       "    .dataframe tbody tr th {\n",
       "        vertical-align: top;\n",
       "    }\n",
       "\n",
       "    .dataframe thead th {\n",
       "        text-align: right;\n",
       "    }\n",
       "</style>\n",
       "<table border=\"1\" class=\"dataframe\">\n",
       "  <thead>\n",
       "    <tr style=\"text-align: right;\">\n",
       "      <th></th>\n",
       "      <th>Name</th>\n",
       "      <th>short_description</th>\n",
       "      <th>Gender</th>\n",
       "      <th>Occupation</th>\n",
       "      <th>Age</th>\n",
       "    </tr>\n",
       "  </thead>\n",
       "  <tbody>\n",
       "    <tr>\n",
       "      <th>0</th>\n",
       "      <td>Vilém Pospíšil</td>\n",
       "      <td>Baptist minister</td>\n",
       "      <td>Male</td>\n",
       "      <td>Pastor</td>\n",
       "      <td>73</td>\n",
       "    </tr>\n",
       "    <tr>\n",
       "      <th>1</th>\n",
       "      <td>Elise Schmieden</td>\n",
       "      <td>schrijfster (1841-1896)</td>\n",
       "      <td>NaN</td>\n",
       "      <td>Artist</td>\n",
       "      <td>55</td>\n",
       "    </tr>\n",
       "    <tr>\n",
       "      <th>2</th>\n",
       "      <td>Jerónimo de Rueda</td>\n",
       "      <td>Spanish baroque painter</td>\n",
       "      <td>Male</td>\n",
       "      <td>Artist</td>\n",
       "      <td>80</td>\n",
       "    </tr>\n",
       "    <tr>\n",
       "      <th>3</th>\n",
       "      <td>August Karl Wilhelm Weissenbruch</td>\n",
       "      <td>German author</td>\n",
       "      <td>Male</td>\n",
       "      <td>Artist</td>\n",
       "      <td>82</td>\n",
       "    </tr>\n",
       "    <tr>\n",
       "      <th>4</th>\n",
       "      <td>Gösta Göthlin</td>\n",
       "      <td>schwedischer Arzt und Bakteriologe</td>\n",
       "      <td>Male</td>\n",
       "      <td>Physician</td>\n",
       "      <td>89</td>\n",
       "    </tr>\n",
       "    <tr>\n",
       "      <th>...</th>\n",
       "      <td>...</td>\n",
       "      <td>...</td>\n",
       "      <td>...</td>\n",
       "      <td>...</td>\n",
       "      <td>...</td>\n",
       "    </tr>\n",
       "    <tr>\n",
       "      <th>917126</th>\n",
       "      <td>Philip Jones of Fonmon</td>\n",
       "      <td>Welsh politician</td>\n",
       "      <td>Male</td>\n",
       "      <td>Politician</td>\n",
       "      <td>56</td>\n",
       "    </tr>\n",
       "    <tr>\n",
       "      <th>917127</th>\n",
       "      <td>Stefan Jakovljević</td>\n",
       "      <td>botanist (1890-1962)</td>\n",
       "      <td>Male</td>\n",
       "      <td>Researcher</td>\n",
       "      <td>72</td>\n",
       "    </tr>\n",
       "    <tr>\n",
       "      <th>917128</th>\n",
       "      <td>Kurt Berthold</td>\n",
       "      <td>maestru d'armes alemán (1902–1977)</td>\n",
       "      <td>Male</td>\n",
       "      <td>Athlete</td>\n",
       "      <td>75</td>\n",
       "    </tr>\n",
       "    <tr>\n",
       "      <th>917129</th>\n",
       "      <td>Ray Frenette</td>\n",
       "      <td>Canadian politician</td>\n",
       "      <td>Male</td>\n",
       "      <td>Politician</td>\n",
       "      <td>83</td>\n",
       "    </tr>\n",
       "    <tr>\n",
       "      <th>917130</th>\n",
       "      <td>Zygmunt Mitera</td>\n",
       "      <td>polnischer Arzt</td>\n",
       "      <td>Male</td>\n",
       "      <td>Physician</td>\n",
       "      <td>37</td>\n",
       "    </tr>\n",
       "  </tbody>\n",
       "</table>\n",
       "<p>917130 rows × 5 columns</p>\n",
       "</div>"
      ],
      "text/plain": [
       "                                    Name                   short_description  \\\n",
       "0                         Vilém Pospíšil                    Baptist minister   \n",
       "1                        Elise Schmieden             schrijfster (1841-1896)   \n",
       "2                      Jerónimo de Rueda             Spanish baroque painter   \n",
       "3       August Karl Wilhelm Weissenbruch                       German author   \n",
       "4                          Gösta Göthlin  schwedischer Arzt und Bakteriologe   \n",
       "...                                  ...                                 ...   \n",
       "917126            Philip Jones of Fonmon                    Welsh politician   \n",
       "917127                Stefan Jakovljević                botanist (1890-1962)   \n",
       "917128                     Kurt Berthold  maestru d'armes alemán (1902–1977)   \n",
       "917129                      Ray Frenette                 Canadian politician   \n",
       "917130                    Zygmunt Mitera                     polnischer Arzt   \n",
       "\n",
       "       Gender  Occupation  Age  \n",
       "0        Male      Pastor   73  \n",
       "1         NaN      Artist   55  \n",
       "2        Male      Artist   80  \n",
       "3        Male      Artist   82  \n",
       "4        Male   Physician   89  \n",
       "...       ...         ...  ...  \n",
       "917126   Male  Politician   56  \n",
       "917127   Male  Researcher   72  \n",
       "917128   Male     Athlete   75  \n",
       "917129   Male  Politician   83  \n",
       "917130   Male   Physician   37  \n",
       "\n",
       "[917130 rows x 5 columns]"
      ]
     },
     "execution_count": 30,
     "metadata": {},
     "output_type": "execute_result"
    }
   ],
   "source": [
    "data1"
   ]
  },
  {
   "cell_type": "markdown",
   "id": "de02ada8",
   "metadata": {},
   "source": [
    "### dealing with nulls"
   ]
  },
  {
   "cell_type": "code",
   "execution_count": 31,
   "id": "51b3cddc",
   "metadata": {},
   "outputs": [
    {
     "data": {
      "text/plain": [
       "Name                      0\n",
       "short_description     51027\n",
       "Gender               100368\n",
       "Occupation           155386\n",
       "Age                       0\n",
       "dtype: int64"
      ]
     },
     "execution_count": 31,
     "metadata": {},
     "output_type": "execute_result"
    }
   ],
   "source": [
    "data1.isna().sum()"
   ]
  },
  {
   "cell_type": "code",
   "execution_count": 32,
   "id": "7ae08770",
   "metadata": {},
   "outputs": [
    {
     "data": {
      "text/plain": [
       "Name                 0\n",
       "short_description    0\n",
       "Gender               0\n",
       "Occupation           0\n",
       "Age                  0\n",
       "dtype: int64"
      ]
     },
     "execution_count": 32,
     "metadata": {},
     "output_type": "execute_result"
    }
   ],
   "source": [
    "dataNoNulls = data1.dropna()\n",
    "dataNoNulls.isna().sum()"
   ]
  },
  {
   "cell_type": "code",
   "execution_count": 33,
   "id": "f20ca3ef",
   "metadata": {},
   "outputs": [
    {
     "data": {
      "text/plain": [
       "(685438, 5)"
      ]
     },
     "execution_count": 33,
     "metadata": {},
     "output_type": "execute_result"
    }
   ],
   "source": [
    "dataNoNulls.shape"
   ]
  },
  {
   "cell_type": "code",
   "execution_count": 34,
   "id": "7a94485d",
   "metadata": {},
   "outputs": [
    {
     "data": {
      "text/plain": [
       "Name                 0\n",
       "Gender           93713\n",
       "Country         234467\n",
       "Birth_year           0\n",
       "Death_year           0\n",
       "death_reason    818423\n",
       "Age                  0\n",
       "dtype: int64"
      ]
     },
     "execution_count": 34,
     "metadata": {},
     "output_type": "execute_result"
    }
   ],
   "source": [
    "data2.isna().sum()"
   ]
  },
  {
   "cell_type": "code",
   "execution_count": 35,
   "id": "23a7ab3d",
   "metadata": {},
   "outputs": [
    {
     "data": {
      "text/plain": [
       "Name            0\n",
       "Gender          0\n",
       "Country         0\n",
       "Birth_year      0\n",
       "Death_year      0\n",
       "death_reason    0\n",
       "Age             0\n",
       "dtype: int64"
      ]
     },
     "execution_count": 35,
     "metadata": {},
     "output_type": "execute_result"
    }
   ],
   "source": [
    "data2NoNulls = data2.dropna()\n",
    "data2NoNulls.isna().sum()"
   ]
  },
  {
   "cell_type": "code",
   "execution_count": 36,
   "id": "f7b83dfe",
   "metadata": {},
   "outputs": [
    {
     "data": {
      "text/plain": [
       "(33174, 7)"
      ]
     },
     "execution_count": 36,
     "metadata": {},
     "output_type": "execute_result"
    }
   ],
   "source": [
    "data2NoNulls.shape"
   ]
  },
  {
   "cell_type": "code",
   "execution_count": 42,
   "id": "d5b2fcdc",
   "metadata": {},
   "outputs": [
    {
     "data": {
      "text/html": [
       "<div>\n",
       "<style scoped>\n",
       "    .dataframe tbody tr th:only-of-type {\n",
       "        vertical-align: middle;\n",
       "    }\n",
       "\n",
       "    .dataframe tbody tr th {\n",
       "        vertical-align: top;\n",
       "    }\n",
       "\n",
       "    .dataframe thead th {\n",
       "        text-align: right;\n",
       "    }\n",
       "</style>\n",
       "<table border=\"1\" class=\"dataframe\">\n",
       "  <thead>\n",
       "    <tr style=\"text-align: right;\">\n",
       "      <th></th>\n",
       "      <th>Name</th>\n",
       "      <th>short_description</th>\n",
       "      <th>Gender</th>\n",
       "      <th>Occupation</th>\n",
       "      <th>Age</th>\n",
       "      <th>Country</th>\n",
       "      <th>Birth_year</th>\n",
       "      <th>Death_year</th>\n",
       "      <th>death_reason</th>\n",
       "    </tr>\n",
       "  </thead>\n",
       "  <tbody>\n",
       "    <tr>\n",
       "      <th>0</th>\n",
       "      <td>Elise Schmieden</td>\n",
       "      <td>schrijfster (1841-1896)</td>\n",
       "      <td>NaN</td>\n",
       "      <td>Artist</td>\n",
       "      <td>55</td>\n",
       "      <td>NaN</td>\n",
       "      <td>1841</td>\n",
       "      <td>1896</td>\n",
       "      <td>NaN</td>\n",
       "    </tr>\n",
       "    <tr>\n",
       "      <th>1</th>\n",
       "      <td>Jerónimo de Rueda</td>\n",
       "      <td>Spanish baroque painter</td>\n",
       "      <td>Male</td>\n",
       "      <td>Artist</td>\n",
       "      <td>80</td>\n",
       "      <td>Spain</td>\n",
       "      <td>1670</td>\n",
       "      <td>1750</td>\n",
       "      <td>NaN</td>\n",
       "    </tr>\n",
       "    <tr>\n",
       "      <th>2</th>\n",
       "      <td>August Karl Wilhelm Weissenbruch</td>\n",
       "      <td>German author</td>\n",
       "      <td>Male</td>\n",
       "      <td>Artist</td>\n",
       "      <td>82</td>\n",
       "      <td>Germany</td>\n",
       "      <td>1744</td>\n",
       "      <td>1826</td>\n",
       "      <td>NaN</td>\n",
       "    </tr>\n",
       "    <tr>\n",
       "      <th>3</th>\n",
       "      <td>William Abbenseth</td>\n",
       "      <td>photographer</td>\n",
       "      <td>Male</td>\n",
       "      <td>Artist</td>\n",
       "      <td>74</td>\n",
       "      <td>United States of America</td>\n",
       "      <td>1898</td>\n",
       "      <td>1972</td>\n",
       "      <td>NaN</td>\n",
       "    </tr>\n",
       "    <tr>\n",
       "      <th>4</th>\n",
       "      <td>Anatoly Krupnov</td>\n",
       "      <td>musician and poet (1965-1997)</td>\n",
       "      <td>Male</td>\n",
       "      <td>Artist</td>\n",
       "      <td>32</td>\n",
       "      <td>Russia</td>\n",
       "      <td>1965</td>\n",
       "      <td>1997</td>\n",
       "      <td>NaN</td>\n",
       "    </tr>\n",
       "    <tr>\n",
       "      <th>...</th>\n",
       "      <td>...</td>\n",
       "      <td>...</td>\n",
       "      <td>...</td>\n",
       "      <td>...</td>\n",
       "      <td>...</td>\n",
       "      <td>...</td>\n",
       "      <td>...</td>\n",
       "      <td>...</td>\n",
       "      <td>...</td>\n",
       "    </tr>\n",
       "    <tr>\n",
       "      <th>647832</th>\n",
       "      <td>Hans Bosman</td>\n",
       "      <td>Dutch painter</td>\n",
       "      <td>Male</td>\n",
       "      <td>Artist</td>\n",
       "      <td>54</td>\n",
       "      <td>Kingdom of the Netherlands</td>\n",
       "      <td>1958</td>\n",
       "      <td>2012</td>\n",
       "      <td>NaN</td>\n",
       "    </tr>\n",
       "    <tr>\n",
       "      <th>647833</th>\n",
       "      <td>Philip Jones of Fonmon</td>\n",
       "      <td>Welsh politician</td>\n",
       "      <td>Male</td>\n",
       "      <td>Politician</td>\n",
       "      <td>56</td>\n",
       "      <td>Kingdom of England</td>\n",
       "      <td>1618</td>\n",
       "      <td>1674</td>\n",
       "      <td>NaN</td>\n",
       "    </tr>\n",
       "    <tr>\n",
       "      <th>647834</th>\n",
       "      <td>Stefan Jakovljević</td>\n",
       "      <td>botanist (1890-1962)</td>\n",
       "      <td>Male</td>\n",
       "      <td>Researcher</td>\n",
       "      <td>72</td>\n",
       "      <td>Serbia</td>\n",
       "      <td>1890</td>\n",
       "      <td>1962</td>\n",
       "      <td>NaN</td>\n",
       "    </tr>\n",
       "    <tr>\n",
       "      <th>647835</th>\n",
       "      <td>Kurt Berthold</td>\n",
       "      <td>maestru d'armes alemán (1902–1977)</td>\n",
       "      <td>Male</td>\n",
       "      <td>Athlete</td>\n",
       "      <td>75</td>\n",
       "      <td>Germany</td>\n",
       "      <td>1902</td>\n",
       "      <td>1977</td>\n",
       "      <td>NaN</td>\n",
       "    </tr>\n",
       "    <tr>\n",
       "      <th>647836</th>\n",
       "      <td>Zygmunt Mitera</td>\n",
       "      <td>polnischer Arzt</td>\n",
       "      <td>Male</td>\n",
       "      <td>Physician</td>\n",
       "      <td>37</td>\n",
       "      <td>Poland</td>\n",
       "      <td>1903</td>\n",
       "      <td>1940</td>\n",
       "      <td>NaN</td>\n",
       "    </tr>\n",
       "  </tbody>\n",
       "</table>\n",
       "<p>647837 rows × 9 columns</p>\n",
       "</div>"
      ],
      "text/plain": [
       "                                    Name                   short_description  \\\n",
       "0                        Elise Schmieden             schrijfster (1841-1896)   \n",
       "1                      Jerónimo de Rueda             Spanish baroque painter   \n",
       "2       August Karl Wilhelm Weissenbruch                       German author   \n",
       "3                      William Abbenseth                        photographer   \n",
       "4                        Anatoly Krupnov       musician and poet (1965-1997)   \n",
       "...                                  ...                                 ...   \n",
       "647832                       Hans Bosman                       Dutch painter   \n",
       "647833            Philip Jones of Fonmon                    Welsh politician   \n",
       "647834                Stefan Jakovljević                botanist (1890-1962)   \n",
       "647835                     Kurt Berthold  maestru d'armes alemán (1902–1977)   \n",
       "647836                    Zygmunt Mitera                     polnischer Arzt   \n",
       "\n",
       "       Gender  Occupation  Age                     Country  Birth_year  \\\n",
       "0         NaN      Artist   55                         NaN        1841   \n",
       "1        Male      Artist   80                       Spain        1670   \n",
       "2        Male      Artist   82                     Germany        1744   \n",
       "3        Male      Artist   74    United States of America        1898   \n",
       "4        Male      Artist   32                      Russia        1965   \n",
       "...       ...         ...  ...                         ...         ...   \n",
       "647832   Male      Artist   54  Kingdom of the Netherlands        1958   \n",
       "647833   Male  Politician   56          Kingdom of England        1618   \n",
       "647834   Male  Researcher   72                      Serbia        1890   \n",
       "647835   Male     Athlete   75                     Germany        1902   \n",
       "647836   Male   Physician   37                      Poland        1903   \n",
       "\n",
       "        Death_year death_reason  \n",
       "0             1896          NaN  \n",
       "1             1750          NaN  \n",
       "2             1826          NaN  \n",
       "3             1972          NaN  \n",
       "4             1997          NaN  \n",
       "...            ...          ...  \n",
       "647832        2012          NaN  \n",
       "647833        1674          NaN  \n",
       "647834        1962          NaN  \n",
       "647835        1977          NaN  \n",
       "647836        1940          NaN  \n",
       "\n",
       "[647837 rows x 9 columns]"
      ]
     },
     "execution_count": 42,
     "metadata": {},
     "output_type": "execute_result"
    }
   ],
   "source": [
    "# merging data\n",
    "mergedData = pd.merge(data1 , data2 , on=['Name', 'Age','Gender'], how='inner')\n",
    "mergedData"
   ]
  },
  {
   "cell_type": "code",
   "execution_count": 43,
   "id": "e59395b6",
   "metadata": {},
   "outputs": [
    {
     "data": {
      "text/html": [
       "<div>\n",
       "<style scoped>\n",
       "    .dataframe tbody tr th:only-of-type {\n",
       "        vertical-align: middle;\n",
       "    }\n",
       "\n",
       "    .dataframe tbody tr th {\n",
       "        vertical-align: top;\n",
       "    }\n",
       "\n",
       "    .dataframe thead th {\n",
       "        text-align: right;\n",
       "    }\n",
       "</style>\n",
       "<table border=\"1\" class=\"dataframe\">\n",
       "  <thead>\n",
       "    <tr style=\"text-align: right;\">\n",
       "      <th></th>\n",
       "      <th>Name</th>\n",
       "      <th>short_description</th>\n",
       "      <th>Gender</th>\n",
       "      <th>Occupation</th>\n",
       "      <th>Age</th>\n",
       "      <th>Country</th>\n",
       "      <th>Birth_year</th>\n",
       "      <th>Death_year</th>\n",
       "      <th>death_reason</th>\n",
       "    </tr>\n",
       "  </thead>\n",
       "  <tbody>\n",
       "    <tr>\n",
       "      <th>1149</th>\n",
       "      <td>Stefano Scerra</td>\n",
       "      <td>roman-catholic archbishop</td>\n",
       "      <td>Male</td>\n",
       "      <td>Religious figure</td>\n",
       "      <td>84</td>\n",
       "      <td>NaN</td>\n",
       "      <td>1775</td>\n",
       "      <td>1859</td>\n",
       "      <td>NaN</td>\n",
       "    </tr>\n",
       "    <tr>\n",
       "      <th>1151</th>\n",
       "      <td>Stefano Scerra</td>\n",
       "      <td>italienischer Kurienbischof</td>\n",
       "      <td>Male</td>\n",
       "      <td>NaN</td>\n",
       "      <td>84</td>\n",
       "      <td>NaN</td>\n",
       "      <td>1775</td>\n",
       "      <td>1859</td>\n",
       "      <td>NaN</td>\n",
       "    </tr>\n",
       "    <tr>\n",
       "      <th>3211</th>\n",
       "      <td>James Davies</td>\n",
       "      <td>Welsh Baptist minister (1767?-1860)</td>\n",
       "      <td>Male</td>\n",
       "      <td>Minister</td>\n",
       "      <td>93</td>\n",
       "      <td>NaN</td>\n",
       "      <td>1767</td>\n",
       "      <td>1860</td>\n",
       "      <td>NaN</td>\n",
       "    </tr>\n",
       "    <tr>\n",
       "      <th>8320</th>\n",
       "      <td>John Dawes</td>\n",
       "      <td>NaN</td>\n",
       "      <td>Male</td>\n",
       "      <td>NaN</td>\n",
       "      <td>98</td>\n",
       "      <td>NaN</td>\n",
       "      <td>1596</td>\n",
       "      <td>1694</td>\n",
       "      <td>NaN</td>\n",
       "    </tr>\n",
       "    <tr>\n",
       "      <th>8321</th>\n",
       "      <td>John Dawes</td>\n",
       "      <td>NaN</td>\n",
       "      <td>Male</td>\n",
       "      <td>NaN</td>\n",
       "      <td>98</td>\n",
       "      <td>NaN</td>\n",
       "      <td>1602</td>\n",
       "      <td>1700</td>\n",
       "      <td>NaN</td>\n",
       "    </tr>\n",
       "    <tr>\n",
       "      <th>...</th>\n",
       "      <td>...</td>\n",
       "      <td>...</td>\n",
       "      <td>...</td>\n",
       "      <td>...</td>\n",
       "      <td>...</td>\n",
       "      <td>...</td>\n",
       "      <td>...</td>\n",
       "      <td>...</td>\n",
       "      <td>...</td>\n",
       "    </tr>\n",
       "    <tr>\n",
       "      <th>605904</th>\n",
       "      <td>Wojciech Stawowski</td>\n",
       "      <td>roman-catholic bishop</td>\n",
       "      <td>Male</td>\n",
       "      <td>Religious figure</td>\n",
       "      <td>68</td>\n",
       "      <td>NaN</td>\n",
       "      <td>1625</td>\n",
       "      <td>1693</td>\n",
       "      <td>NaN</td>\n",
       "    </tr>\n",
       "    <tr>\n",
       "      <th>616100</th>\n",
       "      <td>Antonín Masák</td>\n",
       "      <td>český učitel, historik, heraldik a sfragistik</td>\n",
       "      <td>Male</td>\n",
       "      <td>Teacher</td>\n",
       "      <td>60</td>\n",
       "      <td>Austria-Hungary</td>\n",
       "      <td>1856</td>\n",
       "      <td>1916</td>\n",
       "      <td>NaN</td>\n",
       "    </tr>\n",
       "    <tr>\n",
       "      <th>616398</th>\n",
       "      <td>Maria Antonelli</td>\n",
       "      <td>pioneer of Italian fashion design</td>\n",
       "      <td>Female</td>\n",
       "      <td>Fashion designer</td>\n",
       "      <td>66</td>\n",
       "      <td>Italy</td>\n",
       "      <td>1903</td>\n",
       "      <td>1969</td>\n",
       "      <td>NaN</td>\n",
       "    </tr>\n",
       "    <tr>\n",
       "      <th>617317</th>\n",
       "      <td>James Gordon</td>\n",
       "      <td>Scottish bishop</td>\n",
       "      <td>Male</td>\n",
       "      <td>Religious figure</td>\n",
       "      <td>81</td>\n",
       "      <td>NaN</td>\n",
       "      <td>1665</td>\n",
       "      <td>1746</td>\n",
       "      <td>NaN</td>\n",
       "    </tr>\n",
       "    <tr>\n",
       "      <th>631229</th>\n",
       "      <td>Maria Teresa Lega</td>\n",
       "      <td>1812-1890</td>\n",
       "      <td>Female</td>\n",
       "      <td>NaN</td>\n",
       "      <td>78</td>\n",
       "      <td>NaN</td>\n",
       "      <td>1812</td>\n",
       "      <td>1890</td>\n",
       "      <td>NaN</td>\n",
       "    </tr>\n",
       "  </tbody>\n",
       "</table>\n",
       "<p>249 rows × 9 columns</p>\n",
       "</div>"
      ],
      "text/plain": [
       "                      Name                              short_description  \\\n",
       "1149        Stefano Scerra                      roman-catholic archbishop   \n",
       "1151        Stefano Scerra                    italienischer Kurienbischof   \n",
       "3211          James Davies            Welsh Baptist minister (1767?-1860)   \n",
       "8320            John Dawes                                            NaN   \n",
       "8321            John Dawes                                            NaN   \n",
       "...                    ...                                            ...   \n",
       "605904  Wojciech Stawowski                          roman-catholic bishop   \n",
       "616100       Antonín Masák  český učitel, historik, heraldik a sfragistik   \n",
       "616398     Maria Antonelli              pioneer of Italian fashion design   \n",
       "617317        James Gordon                                Scottish bishop   \n",
       "631229   Maria Teresa Lega                                      1812-1890   \n",
       "\n",
       "        Gender        Occupation  Age          Country  Birth_year  \\\n",
       "1149      Male  Religious figure   84              NaN        1775   \n",
       "1151      Male               NaN   84              NaN        1775   \n",
       "3211      Male          Minister   93              NaN        1767   \n",
       "8320      Male               NaN   98              NaN        1596   \n",
       "8321      Male               NaN   98              NaN        1602   \n",
       "...        ...               ...  ...              ...         ...   \n",
       "605904    Male  Religious figure   68              NaN        1625   \n",
       "616100    Male           Teacher   60  Austria-Hungary        1856   \n",
       "616398  Female  Fashion designer   66            Italy        1903   \n",
       "617317    Male  Religious figure   81              NaN        1665   \n",
       "631229  Female               NaN   78              NaN        1812   \n",
       "\n",
       "        Death_year death_reason  \n",
       "1149          1859          NaN  \n",
       "1151          1859          NaN  \n",
       "3211          1860          NaN  \n",
       "8320          1694          NaN  \n",
       "8321          1700          NaN  \n",
       "...            ...          ...  \n",
       "605904        1693          NaN  \n",
       "616100        1916          NaN  \n",
       "616398        1969          NaN  \n",
       "617317        1746          NaN  \n",
       "631229        1890          NaN  \n",
       "\n",
       "[249 rows x 9 columns]"
      ]
     },
     "execution_count": 43,
     "metadata": {},
     "output_type": "execute_result"
    }
   ],
   "source": [
    "mergedData[mergedData.duplicated()]"
   ]
  },
  {
   "cell_type": "code",
   "execution_count": 44,
   "id": "c9acba55",
   "metadata": {},
   "outputs": [
    {
     "data": {
      "text/html": [
       "<div>\n",
       "<style scoped>\n",
       "    .dataframe tbody tr th:only-of-type {\n",
       "        vertical-align: middle;\n",
       "    }\n",
       "\n",
       "    .dataframe tbody tr th {\n",
       "        vertical-align: top;\n",
       "    }\n",
       "\n",
       "    .dataframe thead th {\n",
       "        text-align: right;\n",
       "    }\n",
       "</style>\n",
       "<table border=\"1\" class=\"dataframe\">\n",
       "  <thead>\n",
       "    <tr style=\"text-align: right;\">\n",
       "      <th></th>\n",
       "      <th>Name</th>\n",
       "      <th>short_description</th>\n",
       "      <th>Gender</th>\n",
       "      <th>Occupation</th>\n",
       "      <th>Age</th>\n",
       "      <th>Country</th>\n",
       "      <th>Birth_year</th>\n",
       "      <th>Death_year</th>\n",
       "      <th>death_reason</th>\n",
       "    </tr>\n",
       "  </thead>\n",
       "  <tbody>\n",
       "    <tr>\n",
       "      <th>0</th>\n",
       "      <td>Elise Schmieden</td>\n",
       "      <td>schrijfster (1841-1896)</td>\n",
       "      <td>NaN</td>\n",
       "      <td>Artist</td>\n",
       "      <td>55</td>\n",
       "      <td>NaN</td>\n",
       "      <td>1841</td>\n",
       "      <td>1896</td>\n",
       "      <td>NaN</td>\n",
       "    </tr>\n",
       "    <tr>\n",
       "      <th>1</th>\n",
       "      <td>Jerónimo de Rueda</td>\n",
       "      <td>Spanish baroque painter</td>\n",
       "      <td>Male</td>\n",
       "      <td>Artist</td>\n",
       "      <td>80</td>\n",
       "      <td>Spain</td>\n",
       "      <td>1670</td>\n",
       "      <td>1750</td>\n",
       "      <td>NaN</td>\n",
       "    </tr>\n",
       "    <tr>\n",
       "      <th>2</th>\n",
       "      <td>August Karl Wilhelm Weissenbruch</td>\n",
       "      <td>German author</td>\n",
       "      <td>Male</td>\n",
       "      <td>Artist</td>\n",
       "      <td>82</td>\n",
       "      <td>Germany</td>\n",
       "      <td>1744</td>\n",
       "      <td>1826</td>\n",
       "      <td>NaN</td>\n",
       "    </tr>\n",
       "    <tr>\n",
       "      <th>3</th>\n",
       "      <td>William Abbenseth</td>\n",
       "      <td>photographer</td>\n",
       "      <td>Male</td>\n",
       "      <td>Artist</td>\n",
       "      <td>74</td>\n",
       "      <td>United States of America</td>\n",
       "      <td>1898</td>\n",
       "      <td>1972</td>\n",
       "      <td>NaN</td>\n",
       "    </tr>\n",
       "    <tr>\n",
       "      <th>4</th>\n",
       "      <td>Anatoly Krupnov</td>\n",
       "      <td>musician and poet (1965-1997)</td>\n",
       "      <td>Male</td>\n",
       "      <td>Artist</td>\n",
       "      <td>32</td>\n",
       "      <td>Russia</td>\n",
       "      <td>1965</td>\n",
       "      <td>1997</td>\n",
       "      <td>NaN</td>\n",
       "    </tr>\n",
       "    <tr>\n",
       "      <th>...</th>\n",
       "      <td>...</td>\n",
       "      <td>...</td>\n",
       "      <td>...</td>\n",
       "      <td>...</td>\n",
       "      <td>...</td>\n",
       "      <td>...</td>\n",
       "      <td>...</td>\n",
       "      <td>...</td>\n",
       "      <td>...</td>\n",
       "    </tr>\n",
       "    <tr>\n",
       "      <th>647832</th>\n",
       "      <td>Hans Bosman</td>\n",
       "      <td>Dutch painter</td>\n",
       "      <td>Male</td>\n",
       "      <td>Artist</td>\n",
       "      <td>54</td>\n",
       "      <td>Kingdom of the Netherlands</td>\n",
       "      <td>1958</td>\n",
       "      <td>2012</td>\n",
       "      <td>NaN</td>\n",
       "    </tr>\n",
       "    <tr>\n",
       "      <th>647833</th>\n",
       "      <td>Philip Jones of Fonmon</td>\n",
       "      <td>Welsh politician</td>\n",
       "      <td>Male</td>\n",
       "      <td>Politician</td>\n",
       "      <td>56</td>\n",
       "      <td>Kingdom of England</td>\n",
       "      <td>1618</td>\n",
       "      <td>1674</td>\n",
       "      <td>NaN</td>\n",
       "    </tr>\n",
       "    <tr>\n",
       "      <th>647834</th>\n",
       "      <td>Stefan Jakovljević</td>\n",
       "      <td>botanist (1890-1962)</td>\n",
       "      <td>Male</td>\n",
       "      <td>Researcher</td>\n",
       "      <td>72</td>\n",
       "      <td>Serbia</td>\n",
       "      <td>1890</td>\n",
       "      <td>1962</td>\n",
       "      <td>NaN</td>\n",
       "    </tr>\n",
       "    <tr>\n",
       "      <th>647835</th>\n",
       "      <td>Kurt Berthold</td>\n",
       "      <td>maestru d'armes alemán (1902–1977)</td>\n",
       "      <td>Male</td>\n",
       "      <td>Athlete</td>\n",
       "      <td>75</td>\n",
       "      <td>Germany</td>\n",
       "      <td>1902</td>\n",
       "      <td>1977</td>\n",
       "      <td>NaN</td>\n",
       "    </tr>\n",
       "    <tr>\n",
       "      <th>647836</th>\n",
       "      <td>Zygmunt Mitera</td>\n",
       "      <td>polnischer Arzt</td>\n",
       "      <td>Male</td>\n",
       "      <td>Physician</td>\n",
       "      <td>37</td>\n",
       "      <td>Poland</td>\n",
       "      <td>1903</td>\n",
       "      <td>1940</td>\n",
       "      <td>NaN</td>\n",
       "    </tr>\n",
       "  </tbody>\n",
       "</table>\n",
       "<p>647588 rows × 9 columns</p>\n",
       "</div>"
      ],
      "text/plain": [
       "                                    Name                   short_description  \\\n",
       "0                        Elise Schmieden             schrijfster (1841-1896)   \n",
       "1                      Jerónimo de Rueda             Spanish baroque painter   \n",
       "2       August Karl Wilhelm Weissenbruch                       German author   \n",
       "3                      William Abbenseth                        photographer   \n",
       "4                        Anatoly Krupnov       musician and poet (1965-1997)   \n",
       "...                                  ...                                 ...   \n",
       "647832                       Hans Bosman                       Dutch painter   \n",
       "647833            Philip Jones of Fonmon                    Welsh politician   \n",
       "647834                Stefan Jakovljević                botanist (1890-1962)   \n",
       "647835                     Kurt Berthold  maestru d'armes alemán (1902–1977)   \n",
       "647836                    Zygmunt Mitera                     polnischer Arzt   \n",
       "\n",
       "       Gender  Occupation  Age                     Country  Birth_year  \\\n",
       "0         NaN      Artist   55                         NaN        1841   \n",
       "1        Male      Artist   80                       Spain        1670   \n",
       "2        Male      Artist   82                     Germany        1744   \n",
       "3        Male      Artist   74    United States of America        1898   \n",
       "4        Male      Artist   32                      Russia        1965   \n",
       "...       ...         ...  ...                         ...         ...   \n",
       "647832   Male      Artist   54  Kingdom of the Netherlands        1958   \n",
       "647833   Male  Politician   56          Kingdom of England        1618   \n",
       "647834   Male  Researcher   72                      Serbia        1890   \n",
       "647835   Male     Athlete   75                     Germany        1902   \n",
       "647836   Male   Physician   37                      Poland        1903   \n",
       "\n",
       "        Death_year death_reason  \n",
       "0             1896          NaN  \n",
       "1             1750          NaN  \n",
       "2             1826          NaN  \n",
       "3             1972          NaN  \n",
       "4             1997          NaN  \n",
       "...            ...          ...  \n",
       "647832        2012          NaN  \n",
       "647833        1674          NaN  \n",
       "647834        1962          NaN  \n",
       "647835        1977          NaN  \n",
       "647836        1940          NaN  \n",
       "\n",
       "[647588 rows x 9 columns]"
      ]
     },
     "execution_count": 44,
     "metadata": {},
     "output_type": "execute_result"
    }
   ],
   "source": [
    "mergedDataDup = mergedData.drop_duplicates()\n",
    "mergedDataDup"
   ]
  },
  {
   "cell_type": "code",
   "execution_count": 50,
   "id": "100db803",
   "metadata": {},
   "outputs": [
    {
     "data": {
      "text/plain": [
       "Name                      0\n",
       "short_description     35903\n",
       "Gender                70711\n",
       "Occupation           109666\n",
       "Age                       0\n",
       "Country              177795\n",
       "Birth_year                0\n",
       "Death_year                0\n",
       "death_reason         619163\n",
       "dtype: int64"
      ]
     },
     "execution_count": 50,
     "metadata": {},
     "output_type": "execute_result"
    }
   ],
   "source": [
    "mergedDataDup.isna().sum()"
   ]
  },
  {
   "cell_type": "code",
   "execution_count": 51,
   "id": "3f9f80bc",
   "metadata": {},
   "outputs": [
    {
     "data": {
      "text/plain": [
       "-28425"
      ]
     },
     "execution_count": 51,
     "metadata": {},
     "output_type": "execute_result"
    }
   ],
   "source": [
    "619163 - 647588"
   ]
  },
  {
   "cell_type": "code",
   "execution_count": null,
   "id": "a60057b7",
   "metadata": {},
   "outputs": [],
   "source": []
  },
  {
   "cell_type": "code",
   "execution_count": 45,
   "id": "e858ad7a",
   "metadata": {},
   "outputs": [
    {
     "data": {
      "text/plain": [
       "Name                      0\n",
       "short_description     35903\n",
       "Gender                70711\n",
       "Occupation           109666\n",
       "Age                       0\n",
       "Country              177795\n",
       "Birth_year                0\n",
       "Death_year                0\n",
       "death_reason         619163\n",
       "dtype: int64"
      ]
     },
     "execution_count": 45,
     "metadata": {},
     "output_type": "execute_result"
    }
   ],
   "source": [
    "mergedDataDup.isna().sum()"
   ]
  },
  {
   "cell_type": "code",
   "execution_count": 47,
   "id": "7f7137b6",
   "metadata": {},
   "outputs": [],
   "source": [
    "test = mergedDataDup.dropna(subset=['short_description' , 'Gender' ,'Occupation'])"
   ]
  },
  {
   "cell_type": "code",
   "execution_count": 48,
   "id": "fff78fc4",
   "metadata": {},
   "outputs": [
    {
     "data": {
      "text/plain": [
       "(484229, 9)"
      ]
     },
     "execution_count": 48,
     "metadata": {},
     "output_type": "execute_result"
    }
   ],
   "source": [
    "test.shape"
   ]
  },
  {
   "cell_type": "code",
   "execution_count": 57,
   "id": "64d252d6",
   "metadata": {
    "scrolled": true
   },
   "outputs": [
    {
     "data": {
      "text/plain": [
       "Name                      0\n",
       "short_description     35903\n",
       "Gender                70711\n",
       "Occupation           109666\n",
       "Age                       0\n",
       "Country              177795\n",
       "Birth_year                0\n",
       "Death_year                0\n",
       "death_reason         619163\n",
       "dtype: int64"
      ]
     },
     "execution_count": 57,
     "metadata": {},
     "output_type": "execute_result"
    }
   ],
   "source": [
    "mergedDataDup.isna().sum()"
   ]
  },
  {
   "cell_type": "code",
   "execution_count": 52,
   "id": "951e7f34",
   "metadata": {},
   "outputs": [
    {
     "data": {
      "text/plain": [
       "26206"
      ]
     },
     "execution_count": 52,
     "metadata": {},
     "output_type": "execute_result"
    }
   ],
   "source": [
    "484229 - 458023"
   ]
  },
  {
   "cell_type": "code",
   "execution_count": 59,
   "id": "78e1a3a3",
   "metadata": {},
   "outputs": [
    {
     "data": {
      "text/html": [
       "<div>\n",
       "<style scoped>\n",
       "    .dataframe tbody tr th:only-of-type {\n",
       "        vertical-align: middle;\n",
       "    }\n",
       "\n",
       "    .dataframe tbody tr th {\n",
       "        vertical-align: top;\n",
       "    }\n",
       "\n",
       "    .dataframe thead th {\n",
       "        text-align: right;\n",
       "    }\n",
       "</style>\n",
       "<table border=\"1\" class=\"dataframe\">\n",
       "  <thead>\n",
       "    <tr style=\"text-align: right;\">\n",
       "      <th></th>\n",
       "      <th>Name</th>\n",
       "      <th>short_description</th>\n",
       "      <th>Gender</th>\n",
       "      <th>Occupation</th>\n",
       "      <th>Age</th>\n",
       "      <th>Country</th>\n",
       "      <th>Birth_year</th>\n",
       "      <th>Death_year</th>\n",
       "      <th>death_reason</th>\n",
       "    </tr>\n",
       "  </thead>\n",
       "  <tbody>\n",
       "    <tr>\n",
       "      <th>0</th>\n",
       "      <td>Elise Schmieden</td>\n",
       "      <td>schrijfster (1841-1896)</td>\n",
       "      <td>NaN</td>\n",
       "      <td>Artist</td>\n",
       "      <td>55</td>\n",
       "      <td>NaN</td>\n",
       "      <td>1841</td>\n",
       "      <td>1896</td>\n",
       "      <td>NaN</td>\n",
       "    </tr>\n",
       "    <tr>\n",
       "      <th>1</th>\n",
       "      <td>Jerónimo de Rueda</td>\n",
       "      <td>Spanish baroque painter</td>\n",
       "      <td>Male</td>\n",
       "      <td>Artist</td>\n",
       "      <td>80</td>\n",
       "      <td>Spain</td>\n",
       "      <td>1670</td>\n",
       "      <td>1750</td>\n",
       "      <td>NaN</td>\n",
       "    </tr>\n",
       "    <tr>\n",
       "      <th>2</th>\n",
       "      <td>August Karl Wilhelm Weissenbruch</td>\n",
       "      <td>German author</td>\n",
       "      <td>Male</td>\n",
       "      <td>Artist</td>\n",
       "      <td>82</td>\n",
       "      <td>Germany</td>\n",
       "      <td>1744</td>\n",
       "      <td>1826</td>\n",
       "      <td>NaN</td>\n",
       "    </tr>\n",
       "    <tr>\n",
       "      <th>3</th>\n",
       "      <td>William Abbenseth</td>\n",
       "      <td>photographer</td>\n",
       "      <td>Male</td>\n",
       "      <td>Artist</td>\n",
       "      <td>74</td>\n",
       "      <td>United States of America</td>\n",
       "      <td>1898</td>\n",
       "      <td>1972</td>\n",
       "      <td>NaN</td>\n",
       "    </tr>\n",
       "    <tr>\n",
       "      <th>4</th>\n",
       "      <td>Anatoly Krupnov</td>\n",
       "      <td>musician and poet (1965-1997)</td>\n",
       "      <td>Male</td>\n",
       "      <td>Artist</td>\n",
       "      <td>32</td>\n",
       "      <td>Russia</td>\n",
       "      <td>1965</td>\n",
       "      <td>1997</td>\n",
       "      <td>NaN</td>\n",
       "    </tr>\n",
       "    <tr>\n",
       "      <th>...</th>\n",
       "      <td>...</td>\n",
       "      <td>...</td>\n",
       "      <td>...</td>\n",
       "      <td>...</td>\n",
       "      <td>...</td>\n",
       "      <td>...</td>\n",
       "      <td>...</td>\n",
       "      <td>...</td>\n",
       "      <td>...</td>\n",
       "    </tr>\n",
       "    <tr>\n",
       "      <th>647832</th>\n",
       "      <td>Hans Bosman</td>\n",
       "      <td>Dutch painter</td>\n",
       "      <td>Male</td>\n",
       "      <td>Artist</td>\n",
       "      <td>54</td>\n",
       "      <td>Kingdom of the Netherlands</td>\n",
       "      <td>1958</td>\n",
       "      <td>2012</td>\n",
       "      <td>NaN</td>\n",
       "    </tr>\n",
       "    <tr>\n",
       "      <th>647833</th>\n",
       "      <td>Philip Jones of Fonmon</td>\n",
       "      <td>Welsh politician</td>\n",
       "      <td>Male</td>\n",
       "      <td>Politician</td>\n",
       "      <td>56</td>\n",
       "      <td>Kingdom of England</td>\n",
       "      <td>1618</td>\n",
       "      <td>1674</td>\n",
       "      <td>NaN</td>\n",
       "    </tr>\n",
       "    <tr>\n",
       "      <th>647834</th>\n",
       "      <td>Stefan Jakovljević</td>\n",
       "      <td>botanist (1890-1962)</td>\n",
       "      <td>Male</td>\n",
       "      <td>Researcher</td>\n",
       "      <td>72</td>\n",
       "      <td>Serbia</td>\n",
       "      <td>1890</td>\n",
       "      <td>1962</td>\n",
       "      <td>NaN</td>\n",
       "    </tr>\n",
       "    <tr>\n",
       "      <th>647835</th>\n",
       "      <td>Kurt Berthold</td>\n",
       "      <td>maestru d'armes alemán (1902–1977)</td>\n",
       "      <td>Male</td>\n",
       "      <td>Athlete</td>\n",
       "      <td>75</td>\n",
       "      <td>Germany</td>\n",
       "      <td>1902</td>\n",
       "      <td>1977</td>\n",
       "      <td>NaN</td>\n",
       "    </tr>\n",
       "    <tr>\n",
       "      <th>647836</th>\n",
       "      <td>Zygmunt Mitera</td>\n",
       "      <td>polnischer Arzt</td>\n",
       "      <td>Male</td>\n",
       "      <td>Physician</td>\n",
       "      <td>37</td>\n",
       "      <td>Poland</td>\n",
       "      <td>1903</td>\n",
       "      <td>1940</td>\n",
       "      <td>NaN</td>\n",
       "    </tr>\n",
       "  </tbody>\n",
       "</table>\n",
       "<p>647588 rows × 9 columns</p>\n",
       "</div>"
      ],
      "text/plain": [
       "                                    Name                   short_description  \\\n",
       "0                        Elise Schmieden             schrijfster (1841-1896)   \n",
       "1                      Jerónimo de Rueda             Spanish baroque painter   \n",
       "2       August Karl Wilhelm Weissenbruch                       German author   \n",
       "3                      William Abbenseth                        photographer   \n",
       "4                        Anatoly Krupnov       musician and poet (1965-1997)   \n",
       "...                                  ...                                 ...   \n",
       "647832                       Hans Bosman                       Dutch painter   \n",
       "647833            Philip Jones of Fonmon                    Welsh politician   \n",
       "647834                Stefan Jakovljević                botanist (1890-1962)   \n",
       "647835                     Kurt Berthold  maestru d'armes alemán (1902–1977)   \n",
       "647836                    Zygmunt Mitera                     polnischer Arzt   \n",
       "\n",
       "       Gender  Occupation  Age                     Country  Birth_year  \\\n",
       "0         NaN      Artist   55                         NaN        1841   \n",
       "1        Male      Artist   80                       Spain        1670   \n",
       "2        Male      Artist   82                     Germany        1744   \n",
       "3        Male      Artist   74    United States of America        1898   \n",
       "4        Male      Artist   32                      Russia        1965   \n",
       "...       ...         ...  ...                         ...         ...   \n",
       "647832   Male      Artist   54  Kingdom of the Netherlands        1958   \n",
       "647833   Male  Politician   56          Kingdom of England        1618   \n",
       "647834   Male  Researcher   72                      Serbia        1890   \n",
       "647835   Male     Athlete   75                     Germany        1902   \n",
       "647836   Male   Physician   37                      Poland        1903   \n",
       "\n",
       "        Death_year death_reason  \n",
       "0             1896          NaN  \n",
       "1             1750          NaN  \n",
       "2             1826          NaN  \n",
       "3             1972          NaN  \n",
       "4             1997          NaN  \n",
       "...            ...          ...  \n",
       "647832        2012          NaN  \n",
       "647833        1674          NaN  \n",
       "647834        1962          NaN  \n",
       "647835        1977          NaN  \n",
       "647836        1940          NaN  \n",
       "\n",
       "[647588 rows x 9 columns]"
      ]
     },
     "execution_count": 59,
     "metadata": {},
     "output_type": "execute_result"
    }
   ],
   "source": [
    "mergedDataDup"
   ]
  },
  {
   "cell_type": "markdown",
   "id": "435c8a85",
   "metadata": {},
   "source": [
    "as there's no way we can guess the short description, it must be dropped"
   ]
  },
  {
   "cell_type": "code",
   "execution_count": 68,
   "id": "70b9a658",
   "metadata": {},
   "outputs": [],
   "source": [
    "mergedDataDup = mergedDataDup.dropna(subset = ['short_description'])"
   ]
  },
  {
   "cell_type": "code",
   "execution_count": 69,
   "id": "e9b8367d",
   "metadata": {},
   "outputs": [
    {
     "data": {
      "text/plain": [
       "(611685, 9)"
      ]
     },
     "execution_count": 69,
     "metadata": {},
     "output_type": "execute_result"
    }
   ],
   "source": [
    "mergedDataDup.shape"
   ]
  },
  {
   "cell_type": "code",
   "execution_count": 70,
   "id": "35efb075",
   "metadata": {
    "scrolled": true
   },
   "outputs": [
    {
     "data": {
      "text/plain": [
       "Name                      0\n",
       "short_description         0\n",
       "Gender                60481\n",
       "Occupation            79375\n",
       "Age                       0\n",
       "Country              154895\n",
       "Birth_year                0\n",
       "Death_year                0\n",
       "death_reason         583611\n",
       "dtype: int64"
      ]
     },
     "execution_count": 70,
     "metadata": {},
     "output_type": "execute_result"
    }
   ],
   "source": [
    "mergedDataDup.isna().sum()"
   ]
  },
  {
   "cell_type": "markdown",
   "id": "0ed5d916",
   "metadata": {},
   "source": [
    "we'll impute the gender using gender-guesser"
   ]
  },
  {
   "cell_type": "code",
   "execution_count": 71,
   "id": "c56bfec9",
   "metadata": {},
   "outputs": [
    {
     "name": "stdout",
     "output_type": "stream",
     "text": [
      "Collecting gender-guesser\n",
      "  Downloading gender_guesser-0.4.0-py2.py3-none-any.whl (379 kB)\n",
      "Installing collected packages: gender-guesser\n",
      "Successfully installed gender-guesser-0.4.0\n",
      "Note: you may need to restart the kernel to use updated packages.\n"
     ]
    }
   ],
   "source": [
    "pip install gender-guesser"
   ]
  },
  {
   "cell_type": "code",
   "execution_count": 72,
   "id": "839b1390",
   "metadata": {},
   "outputs": [],
   "source": [
    "import gender_guesser.detector as gender"
   ]
  },
  {
   "cell_type": "code",
   "execution_count": 73,
   "id": "dbb6996b",
   "metadata": {},
   "outputs": [],
   "source": [
    "d = gender.Detector()\n"
   ]
  },
  {
   "cell_type": "code",
   "execution_count": 74,
   "id": "21ccc2ff",
   "metadata": {},
   "outputs": [],
   "source": [
    "def guess_gender(name):\n",
    "    guessed_gender = d.get_gender(name)\n",
    "    \n",
    "    # Map to a more readable format\n",
    "    if guessed_gender == 'male' or guessed_gender == 'mostly_male':\n",
    "        return 'Male'\n",
    "    elif guessed_gender == 'female' or guessed_gender == 'mostly_female':\n",
    "        return 'Female'\n",
    "    else:\n",
    "        return None"
   ]
  },
  {
   "cell_type": "code",
   "execution_count": 82,
   "id": "8ee34828",
   "metadata": {},
   "outputs": [
    {
     "name": "stderr",
     "output_type": "stream",
     "text": [
      "C:\\Users\\pc\\AppData\\Local\\Temp\\ipykernel_23812\\1289946632.py:1: SettingWithCopyWarning: \n",
      "A value is trying to be set on a copy of a slice from a DataFrame.\n",
      "Try using .loc[row_indexer,col_indexer] = value instead\n",
      "\n",
      "See the caveats in the documentation: https://pandas.pydata.org/pandas-docs/stable/user_guide/indexing.html#returning-a-view-versus-a-copy\n",
      "  mergedDataDup['Gender'] = mergedDataDup.apply(lambda row: guess_gender(row['Name']) if pd.isnull(row['Gender']) else row['Gender'], axis=1)\n"
     ]
    }
   ],
   "source": [
    "mergedDataDup['Gender'] = mergedDataDup.apply(lambda row: guess_gender(row['Name']) if pd.isnull(row['Gender']) else row['Gender'], axis=1)\n"
   ]
  },
  {
   "cell_type": "code",
   "execution_count": 84,
   "id": "432bdaed",
   "metadata": {
    "scrolled": true
   },
   "outputs": [
    {
     "data": {
      "text/plain": [
       "Name                      0\n",
       "short_description         0\n",
       "Gender                60437\n",
       "Occupation            79375\n",
       "Age                       0\n",
       "Country              154895\n",
       "Birth_year                0\n",
       "Death_year                0\n",
       "death_reason         583611\n",
       "dtype: int64"
      ]
     },
     "execution_count": 84,
     "metadata": {},
     "output_type": "execute_result"
    }
   ],
   "source": [
    "mergedDataDup.isna().sum()"
   ]
  },
  {
   "cell_type": "markdown",
   "id": "034ecdbf",
   "metadata": {},
   "source": [
    "this library mostly failed, i'll try another library"
   ]
  },
  {
   "cell_type": "code",
   "execution_count": 85,
   "id": "81239b6d",
   "metadata": {},
   "outputs": [
    {
     "name": "stdout",
     "output_type": "stream",
     "text": [
      "Collecting genderize\n",
      "  Downloading Genderize-0.3.1-py3-none-any.whl (5.7 kB)\n",
      "Requirement already satisfied: requests>=1.0.0 in c:\\users\\pc\\anaconda3\\envs\\tensor\\lib\\site-packages (from genderize) (2.31.0)\n",
      "Requirement already satisfied: urllib3<3,>=1.21.1 in c:\\users\\pc\\anaconda3\\envs\\tensor\\lib\\site-packages (from requests>=1.0.0->genderize) (1.26.9)\n",
      "Requirement already satisfied: idna<4,>=2.5 in c:\\users\\pc\\anaconda3\\envs\\tensor\\lib\\site-packages (from requests>=1.0.0->genderize) (3.3)\n",
      "Requirement already satisfied: charset-normalizer<4,>=2 in c:\\users\\pc\\anaconda3\\envs\\tensor\\lib\\site-packages (from requests>=1.0.0->genderize) (2.0.4)\n",
      "Requirement already satisfied: certifi>=2017.4.17 in c:\\users\\pc\\anaconda3\\envs\\tensor\\lib\\site-packages (from requests>=1.0.0->genderize) (2021.10.8)\n",
      "Installing collected packages: genderize\n",
      "Successfully installed genderize-0.3.1\n",
      "Note: you may need to restart the kernel to use updated packages.\n"
     ]
    }
   ],
   "source": [
    "pip install genderize\n"
   ]
  },
  {
   "cell_type": "code",
   "execution_count": 86,
   "id": "e6ec5f1f",
   "metadata": {},
   "outputs": [],
   "source": [
    "from genderize import Genderize\n",
    "genderize = Genderize()"
   ]
  },
  {
   "cell_type": "code",
   "execution_count": 93,
   "id": "91a5ec88",
   "metadata": {},
   "outputs": [],
   "source": [
    "def guess_gender(Name):\n",
    "    result = genderize.get(Name=Name)\n",
    "    if result:\n",
    "        return result[0].get('Gender')  # Extract the predicted gender\n",
    "    return None  # In case the API couldn't predict the gender\n"
   ]
  },
  {
   "cell_type": "code",
   "execution_count": 94,
   "id": "cfaedb45",
   "metadata": {},
   "outputs": [
    {
     "ename": "TypeError",
     "evalue": "get() got an unexpected keyword argument 'Name'",
     "output_type": "error",
     "traceback": [
      "\u001b[1;31m---------------------------------------------------------------------------\u001b[0m",
      "\u001b[1;31mTypeError\u001b[0m                                 Traceback (most recent call last)",
      "Input \u001b[1;32mIn [94]\u001b[0m, in \u001b[0;36m<cell line: 1>\u001b[1;34m()\u001b[0m\n\u001b[1;32m----> 1\u001b[0m mergedDataDup[\u001b[38;5;124m'\u001b[39m\u001b[38;5;124mGender\u001b[39m\u001b[38;5;124m'\u001b[39m] \u001b[38;5;241m=\u001b[39m \u001b[43mmergedDataDup\u001b[49m\u001b[38;5;241;43m.\u001b[39;49m\u001b[43mapply\u001b[49m\u001b[43m(\u001b[49m\u001b[38;5;28;43;01mlambda\u001b[39;49;00m\u001b[43m \u001b[49m\u001b[43mrow\u001b[49m\u001b[43m:\u001b[49m\u001b[43m \u001b[49m\u001b[43mguess_gender\u001b[49m\u001b[43m(\u001b[49m\u001b[43mrow\u001b[49m\u001b[43m[\u001b[49m\u001b[38;5;124;43m'\u001b[39;49m\u001b[38;5;124;43mName\u001b[39;49m\u001b[38;5;124;43m'\u001b[39;49m\u001b[43m]\u001b[49m\u001b[43m)\u001b[49m\u001b[43m \u001b[49m\u001b[38;5;28;43;01mif\u001b[39;49;00m\u001b[43m \u001b[49m\u001b[43mpd\u001b[49m\u001b[38;5;241;43m.\u001b[39;49m\u001b[43misnull\u001b[49m\u001b[43m(\u001b[49m\u001b[43mrow\u001b[49m\u001b[43m[\u001b[49m\u001b[38;5;124;43m'\u001b[39;49m\u001b[38;5;124;43mGender\u001b[39;49m\u001b[38;5;124;43m'\u001b[39;49m\u001b[43m]\u001b[49m\u001b[43m)\u001b[49m\u001b[43m \u001b[49m\u001b[38;5;28;43;01melse\u001b[39;49;00m\u001b[43m \u001b[49m\u001b[43mrow\u001b[49m\u001b[43m[\u001b[49m\u001b[38;5;124;43m'\u001b[39;49m\u001b[38;5;124;43mGender\u001b[39;49m\u001b[38;5;124;43m'\u001b[39;49m\u001b[43m]\u001b[49m\u001b[43m,\u001b[49m\u001b[43m \u001b[49m\u001b[43maxis\u001b[49m\u001b[38;5;241;43m=\u001b[39;49m\u001b[38;5;241;43m1\u001b[39;49m\u001b[43m)\u001b[49m\n",
      "File \u001b[1;32m~\\anaconda3\\envs\\tensor\\lib\\site-packages\\pandas\\core\\frame.py:8839\u001b[0m, in \u001b[0;36mDataFrame.apply\u001b[1;34m(self, func, axis, raw, result_type, args, **kwargs)\u001b[0m\n\u001b[0;32m   8828\u001b[0m \u001b[38;5;28;01mfrom\u001b[39;00m \u001b[38;5;21;01mpandas\u001b[39;00m\u001b[38;5;21;01m.\u001b[39;00m\u001b[38;5;21;01mcore\u001b[39;00m\u001b[38;5;21;01m.\u001b[39;00m\u001b[38;5;21;01mapply\u001b[39;00m \u001b[38;5;28;01mimport\u001b[39;00m frame_apply\n\u001b[0;32m   8830\u001b[0m op \u001b[38;5;241m=\u001b[39m frame_apply(\n\u001b[0;32m   8831\u001b[0m     \u001b[38;5;28mself\u001b[39m,\n\u001b[0;32m   8832\u001b[0m     func\u001b[38;5;241m=\u001b[39mfunc,\n\u001b[1;32m   (...)\u001b[0m\n\u001b[0;32m   8837\u001b[0m     kwargs\u001b[38;5;241m=\u001b[39mkwargs,\n\u001b[0;32m   8838\u001b[0m )\n\u001b[1;32m-> 8839\u001b[0m \u001b[38;5;28;01mreturn\u001b[39;00m \u001b[43mop\u001b[49m\u001b[38;5;241;43m.\u001b[39;49m\u001b[43mapply\u001b[49m\u001b[43m(\u001b[49m\u001b[43m)\u001b[49m\u001b[38;5;241m.\u001b[39m__finalize__(\u001b[38;5;28mself\u001b[39m, method\u001b[38;5;241m=\u001b[39m\u001b[38;5;124m\"\u001b[39m\u001b[38;5;124mapply\u001b[39m\u001b[38;5;124m\"\u001b[39m)\n",
      "File \u001b[1;32m~\\anaconda3\\envs\\tensor\\lib\\site-packages\\pandas\\core\\apply.py:727\u001b[0m, in \u001b[0;36mFrameApply.apply\u001b[1;34m(self)\u001b[0m\n\u001b[0;32m    724\u001b[0m \u001b[38;5;28;01melif\u001b[39;00m \u001b[38;5;28mself\u001b[39m\u001b[38;5;241m.\u001b[39mraw:\n\u001b[0;32m    725\u001b[0m     \u001b[38;5;28;01mreturn\u001b[39;00m \u001b[38;5;28mself\u001b[39m\u001b[38;5;241m.\u001b[39mapply_raw()\n\u001b[1;32m--> 727\u001b[0m \u001b[38;5;28;01mreturn\u001b[39;00m \u001b[38;5;28;43mself\u001b[39;49m\u001b[38;5;241;43m.\u001b[39;49m\u001b[43mapply_standard\u001b[49m\u001b[43m(\u001b[49m\u001b[43m)\u001b[49m\n",
      "File \u001b[1;32m~\\anaconda3\\envs\\tensor\\lib\\site-packages\\pandas\\core\\apply.py:851\u001b[0m, in \u001b[0;36mFrameApply.apply_standard\u001b[1;34m(self)\u001b[0m\n\u001b[0;32m    850\u001b[0m \u001b[38;5;28;01mdef\u001b[39;00m \u001b[38;5;21mapply_standard\u001b[39m(\u001b[38;5;28mself\u001b[39m):\n\u001b[1;32m--> 851\u001b[0m     results, res_index \u001b[38;5;241m=\u001b[39m \u001b[38;5;28;43mself\u001b[39;49m\u001b[38;5;241;43m.\u001b[39;49m\u001b[43mapply_series_generator\u001b[49m\u001b[43m(\u001b[49m\u001b[43m)\u001b[49m\n\u001b[0;32m    853\u001b[0m     \u001b[38;5;66;03m# wrap results\u001b[39;00m\n\u001b[0;32m    854\u001b[0m     \u001b[38;5;28;01mreturn\u001b[39;00m \u001b[38;5;28mself\u001b[39m\u001b[38;5;241m.\u001b[39mwrap_results(results, res_index)\n",
      "File \u001b[1;32m~\\anaconda3\\envs\\tensor\\lib\\site-packages\\pandas\\core\\apply.py:867\u001b[0m, in \u001b[0;36mFrameApply.apply_series_generator\u001b[1;34m(self)\u001b[0m\n\u001b[0;32m    864\u001b[0m \u001b[38;5;28;01mwith\u001b[39;00m option_context(\u001b[38;5;124m\"\u001b[39m\u001b[38;5;124mmode.chained_assignment\u001b[39m\u001b[38;5;124m\"\u001b[39m, \u001b[38;5;28;01mNone\u001b[39;00m):\n\u001b[0;32m    865\u001b[0m     \u001b[38;5;28;01mfor\u001b[39;00m i, v \u001b[38;5;129;01min\u001b[39;00m \u001b[38;5;28menumerate\u001b[39m(series_gen):\n\u001b[0;32m    866\u001b[0m         \u001b[38;5;66;03m# ignore SettingWithCopy here in case the user mutates\u001b[39;00m\n\u001b[1;32m--> 867\u001b[0m         results[i] \u001b[38;5;241m=\u001b[39m \u001b[38;5;28;43mself\u001b[39;49m\u001b[38;5;241;43m.\u001b[39;49m\u001b[43mf\u001b[49m\u001b[43m(\u001b[49m\u001b[43mv\u001b[49m\u001b[43m)\u001b[49m\n\u001b[0;32m    868\u001b[0m         \u001b[38;5;28;01mif\u001b[39;00m \u001b[38;5;28misinstance\u001b[39m(results[i], ABCSeries):\n\u001b[0;32m    869\u001b[0m             \u001b[38;5;66;03m# If we have a view on v, we need to make a copy because\u001b[39;00m\n\u001b[0;32m    870\u001b[0m             \u001b[38;5;66;03m#  series_generator will swap out the underlying data\u001b[39;00m\n\u001b[0;32m    871\u001b[0m             results[i] \u001b[38;5;241m=\u001b[39m results[i]\u001b[38;5;241m.\u001b[39mcopy(deep\u001b[38;5;241m=\u001b[39m\u001b[38;5;28;01mFalse\u001b[39;00m)\n",
      "Input \u001b[1;32mIn [94]\u001b[0m, in \u001b[0;36m<lambda>\u001b[1;34m(row)\u001b[0m\n\u001b[1;32m----> 1\u001b[0m mergedDataDup[\u001b[38;5;124m'\u001b[39m\u001b[38;5;124mGender\u001b[39m\u001b[38;5;124m'\u001b[39m] \u001b[38;5;241m=\u001b[39m mergedDataDup\u001b[38;5;241m.\u001b[39mapply(\u001b[38;5;28;01mlambda\u001b[39;00m row: \u001b[43mguess_gender\u001b[49m\u001b[43m(\u001b[49m\u001b[43mrow\u001b[49m\u001b[43m[\u001b[49m\u001b[38;5;124;43m'\u001b[39;49m\u001b[38;5;124;43mName\u001b[39;49m\u001b[38;5;124;43m'\u001b[39;49m\u001b[43m]\u001b[49m\u001b[43m)\u001b[49m \u001b[38;5;28;01mif\u001b[39;00m pd\u001b[38;5;241m.\u001b[39misnull(row[\u001b[38;5;124m'\u001b[39m\u001b[38;5;124mGender\u001b[39m\u001b[38;5;124m'\u001b[39m]) \u001b[38;5;28;01melse\u001b[39;00m row[\u001b[38;5;124m'\u001b[39m\u001b[38;5;124mGender\u001b[39m\u001b[38;5;124m'\u001b[39m], axis\u001b[38;5;241m=\u001b[39m\u001b[38;5;241m1\u001b[39m)\n",
      "Input \u001b[1;32mIn [93]\u001b[0m, in \u001b[0;36mguess_gender\u001b[1;34m(Name)\u001b[0m\n\u001b[0;32m      1\u001b[0m \u001b[38;5;28;01mdef\u001b[39;00m \u001b[38;5;21mguess_gender\u001b[39m(Name):\n\u001b[1;32m----> 2\u001b[0m     result \u001b[38;5;241m=\u001b[39m \u001b[43mgenderize\u001b[49m\u001b[38;5;241;43m.\u001b[39;49m\u001b[43mget\u001b[49m\u001b[43m(\u001b[49m\u001b[43mName\u001b[49m\u001b[38;5;241;43m=\u001b[39;49m\u001b[43mName\u001b[49m\u001b[43m)\u001b[49m\n\u001b[0;32m      3\u001b[0m     \u001b[38;5;28;01mif\u001b[39;00m result:\n\u001b[0;32m      4\u001b[0m         \u001b[38;5;28;01mreturn\u001b[39;00m result[\u001b[38;5;241m0\u001b[39m]\u001b[38;5;241m.\u001b[39mget(\u001b[38;5;124m'\u001b[39m\u001b[38;5;124mGender\u001b[39m\u001b[38;5;124m'\u001b[39m)  \u001b[38;5;66;03m# Extract the predicted gender\u001b[39;00m\n",
      "\u001b[1;31mTypeError\u001b[0m: get() got an unexpected keyword argument 'Name'"
     ]
    }
   ],
   "source": [
    "mergedDataDup['Gender'] = mergedDataDup.apply(lambda row: guess_gender(row['Name']) if pd.isnull(row['Gender']) else row['Gender'], axis=1)\n"
   ]
  },
  {
   "cell_type": "code",
   "execution_count": null,
   "id": "79e87f2a",
   "metadata": {},
   "outputs": [],
   "source": []
  },
  {
   "cell_type": "code",
   "execution_count": null,
   "id": "ece2f882",
   "metadata": {},
   "outputs": [],
   "source": []
  },
  {
   "cell_type": "code",
   "execution_count": 65,
   "id": "12122ec0",
   "metadata": {},
   "outputs": [
    {
     "data": {
      "text/html": [
       "<div>\n",
       "<style scoped>\n",
       "    .dataframe tbody tr th:only-of-type {\n",
       "        vertical-align: middle;\n",
       "    }\n",
       "\n",
       "    .dataframe tbody tr th {\n",
       "        vertical-align: top;\n",
       "    }\n",
       "\n",
       "    .dataframe thead th {\n",
       "        text-align: right;\n",
       "    }\n",
       "</style>\n",
       "<table border=\"1\" class=\"dataframe\">\n",
       "  <thead>\n",
       "    <tr style=\"text-align: right;\">\n",
       "      <th></th>\n",
       "      <th>Name</th>\n",
       "      <th>short_description</th>\n",
       "      <th>Gender</th>\n",
       "      <th>Occupation</th>\n",
       "      <th>Age</th>\n",
       "      <th>Country</th>\n",
       "      <th>Birth_year</th>\n",
       "      <th>Death_year</th>\n",
       "      <th>death_reason</th>\n",
       "    </tr>\n",
       "  </thead>\n",
       "  <tbody>\n",
       "    <tr>\n",
       "      <th>9</th>\n",
       "      <td>Nils Berdahl</td>\n",
       "      <td>Norwegian WW2 resistance fighter</td>\n",
       "      <td>Male</td>\n",
       "      <td>NaN</td>\n",
       "      <td>39</td>\n",
       "      <td>Norway</td>\n",
       "      <td>1905</td>\n",
       "      <td>1944</td>\n",
       "      <td>NaN</td>\n",
       "    </tr>\n",
       "    <tr>\n",
       "      <th>27</th>\n",
       "      <td>Bittor Arana</td>\n",
       "      <td>Basque ETA member</td>\n",
       "      <td>NaN</td>\n",
       "      <td>NaN</td>\n",
       "      <td>61</td>\n",
       "      <td>Spain</td>\n",
       "      <td>1943</td>\n",
       "      <td>2004</td>\n",
       "      <td>NaN</td>\n",
       "    </tr>\n",
       "    <tr>\n",
       "      <th>28</th>\n",
       "      <td>Thomas Aston</td>\n",
       "      <td>Sheriff of Cheshire/1551</td>\n",
       "      <td>Male</td>\n",
       "      <td>NaN</td>\n",
       "      <td>73</td>\n",
       "      <td>NaN</td>\n",
       "      <td>1480</td>\n",
       "      <td>1553</td>\n",
       "      <td>NaN</td>\n",
       "    </tr>\n",
       "    <tr>\n",
       "      <th>34</th>\n",
       "      <td>Abe Masataka</td>\n",
       "      <td>NaN</td>\n",
       "      <td>Male</td>\n",
       "      <td>NaN</td>\n",
       "      <td>78</td>\n",
       "      <td>NaN</td>\n",
       "      <td>1672</td>\n",
       "      <td>1750</td>\n",
       "      <td>NaN</td>\n",
       "    </tr>\n",
       "    <tr>\n",
       "      <th>59</th>\n",
       "      <td>Douglas Haddow</td>\n",
       "      <td>Haddow, Sir (Thomas) Douglas (1913–1986), civi...</td>\n",
       "      <td>Male</td>\n",
       "      <td>NaN</td>\n",
       "      <td>73</td>\n",
       "      <td>NaN</td>\n",
       "      <td>1913</td>\n",
       "      <td>1986</td>\n",
       "      <td>NaN</td>\n",
       "    </tr>\n",
       "    <tr>\n",
       "      <th>...</th>\n",
       "      <td>...</td>\n",
       "      <td>...</td>\n",
       "      <td>...</td>\n",
       "      <td>...</td>\n",
       "      <td>...</td>\n",
       "      <td>...</td>\n",
       "      <td>...</td>\n",
       "      <td>...</td>\n",
       "      <td>...</td>\n",
       "    </tr>\n",
       "    <tr>\n",
       "      <th>647771</th>\n",
       "      <td>Thomas John Bewick</td>\n",
       "      <td>birth/death: 1821-1897  LCAuth[nb99041485] VIA...</td>\n",
       "      <td>Male</td>\n",
       "      <td>NaN</td>\n",
       "      <td>76</td>\n",
       "      <td>NaN</td>\n",
       "      <td>1821</td>\n",
       "      <td>1897</td>\n",
       "      <td>NaN</td>\n",
       "    </tr>\n",
       "    <tr>\n",
       "      <th>647782</th>\n",
       "      <td>William George Player Brigstocke</td>\n",
       "      <td>1910-1940</td>\n",
       "      <td>Male</td>\n",
       "      <td>NaN</td>\n",
       "      <td>30</td>\n",
       "      <td>NaN</td>\n",
       "      <td>1910</td>\n",
       "      <td>1940</td>\n",
       "      <td>NaN</td>\n",
       "    </tr>\n",
       "    <tr>\n",
       "      <th>647801</th>\n",
       "      <td>Jean Alex</td>\n",
       "      <td>commerçant français</td>\n",
       "      <td>NaN</td>\n",
       "      <td>NaN</td>\n",
       "      <td>78</td>\n",
       "      <td>France</td>\n",
       "      <td>1876</td>\n",
       "      <td>1954</td>\n",
       "      <td>NaN</td>\n",
       "    </tr>\n",
       "    <tr>\n",
       "      <th>647808</th>\n",
       "      <td>George Nicholas Sanders</td>\n",
       "      <td>Supposed to have some involvement in the assas...</td>\n",
       "      <td>Male</td>\n",
       "      <td>NaN</td>\n",
       "      <td>61</td>\n",
       "      <td>United States of America</td>\n",
       "      <td>1812</td>\n",
       "      <td>1873</td>\n",
       "      <td>NaN</td>\n",
       "    </tr>\n",
       "    <tr>\n",
       "      <th>647827</th>\n",
       "      <td>Filippa della Tavola</td>\n",
       "      <td>NaN</td>\n",
       "      <td>NaN</td>\n",
       "      <td>NaN</td>\n",
       "      <td>24</td>\n",
       "      <td>NaN</td>\n",
       "      <td>1395</td>\n",
       "      <td>1419</td>\n",
       "      <td>NaN</td>\n",
       "    </tr>\n",
       "  </tbody>\n",
       "</table>\n",
       "<p>109666 rows × 9 columns</p>\n",
       "</div>"
      ],
      "text/plain": [
       "                                    Name  \\\n",
       "9                           Nils Berdahl   \n",
       "27                          Bittor Arana   \n",
       "28                          Thomas Aston   \n",
       "34                          Abe Masataka   \n",
       "59                        Douglas Haddow   \n",
       "...                                  ...   \n",
       "647771                Thomas John Bewick   \n",
       "647782  William George Player Brigstocke   \n",
       "647801                         Jean Alex   \n",
       "647808           George Nicholas Sanders   \n",
       "647827              Filippa della Tavola   \n",
       "\n",
       "                                        short_description Gender Occupation  \\\n",
       "9                        Norwegian WW2 resistance fighter   Male        NaN   \n",
       "27                                      Basque ETA member    NaN        NaN   \n",
       "28                               Sheriff of Cheshire/1551   Male        NaN   \n",
       "34                                                    NaN   Male        NaN   \n",
       "59      Haddow, Sir (Thomas) Douglas (1913–1986), civi...   Male        NaN   \n",
       "...                                                   ...    ...        ...   \n",
       "647771  birth/death: 1821-1897  LCAuth[nb99041485] VIA...   Male        NaN   \n",
       "647782                                          1910-1940   Male        NaN   \n",
       "647801                                commerçant français    NaN        NaN   \n",
       "647808  Supposed to have some involvement in the assas...   Male        NaN   \n",
       "647827                                                NaN    NaN        NaN   \n",
       "\n",
       "        Age                   Country  Birth_year  Death_year death_reason  \n",
       "9        39                    Norway        1905        1944          NaN  \n",
       "27       61                     Spain        1943        2004          NaN  \n",
       "28       73                       NaN        1480        1553          NaN  \n",
       "34       78                       NaN        1672        1750          NaN  \n",
       "59       73                       NaN        1913        1986          NaN  \n",
       "...     ...                       ...         ...         ...          ...  \n",
       "647771   76                       NaN        1821        1897          NaN  \n",
       "647782   30                       NaN        1910        1940          NaN  \n",
       "647801   78                    France        1876        1954          NaN  \n",
       "647808   61  United States of America        1812        1873          NaN  \n",
       "647827   24                       NaN        1395        1419          NaN  \n",
       "\n",
       "[109666 rows x 9 columns]"
      ]
     },
     "execution_count": 65,
     "metadata": {},
     "output_type": "execute_result"
    }
   ],
   "source": [
    "mergedDataDup[mergedDataDup['Occupation'].isnull()]"
   ]
  },
  {
   "cell_type": "code",
   "execution_count": 56,
   "id": "563a7826",
   "metadata": {},
   "outputs": [],
   "source": [
    "mergedDataDup.to_csv('mergedDataDup.csv', index=False)"
   ]
  },
  {
   "cell_type": "code",
   "execution_count": 98,
   "id": "87053013",
   "metadata": {},
   "outputs": [],
   "source": [
    "def transform(data1, data2):\n",
    "    data1 , data2 = createNewColumns(data1 , data2)\n",
    "    data1 = data1.dropna(subset=['Age of death'])\n",
    "    data1, data2 = renameColumns(data1, data2)   \n",
    "    data1, data2 = attributeTypesTransform(data1,data2)\n",
    "    return data1, data2"
   ]
  },
  {
   "cell_type": "code",
   "execution_count": 99,
   "id": "ee2f0eeb",
   "metadata": {},
   "outputs": [],
   "source": [
    "data1, data2 = Extract()"
   ]
  },
  {
   "cell_type": "code",
   "execution_count": 100,
   "id": "50d8f377",
   "metadata": {},
   "outputs": [],
   "source": [
    "data1, data2 = transform(data1, data2)"
   ]
  },
  {
   "cell_type": "code",
   "execution_count": 117,
   "id": "aa04bd2c",
   "metadata": {},
   "outputs": [],
   "source": [
    "mergedData = pd.merge(data1 , data2 , on=['Name', 'Age','Gender'], how='inner')\n"
   ]
  },
  {
   "cell_type": "markdown",
   "id": "e617d017",
   "metadata": {},
   "source": [
    "i'll impute the data with the following instead of dropping the nulls:\n",
    "\n",
    "    short_description: Fill missing values with \"No description available\"\n",
    "    Gender: Use the mode (most frequent value)\n",
    "    Occupation: Fill with \"Unknown\"\n",
    "    Country: Fill with \"Unknown\"\n",
    "    death_reason: Fill with \"Not specified\"\n",
    "    "
   ]
  },
  {
   "cell_type": "code",
   "execution_count": 125,
   "id": "d0b83b69",
   "metadata": {},
   "outputs": [
    {
     "data": {
      "text/plain": [
       "'Male'"
      ]
     },
     "execution_count": 125,
     "metadata": {},
     "output_type": "execute_result"
    }
   ],
   "source": [
    "mergedData['Gender'].mode()[0]"
   ]
  },
  {
   "cell_type": "code",
   "execution_count": 128,
   "id": "7a18d53f",
   "metadata": {},
   "outputs": [],
   "source": [
    "mergedData.fillna({'short_description':'No description available' , 'Occupation': 'Unknown', 'Gender': mergedData['Gender'].mode()[0], 'Country': 'Unknown', 'death_reason':'Not specified'}, inplace=True)\n"
   ]
  },
  {
   "cell_type": "code",
   "execution_count": 129,
   "id": "ad212f15",
   "metadata": {},
   "outputs": [
    {
     "data": {
      "text/plain": [
       "Name                 0\n",
       "short_description    0\n",
       "Gender               0\n",
       "Occupation           0\n",
       "Age                  0\n",
       "Country              0\n",
       "Birth_year           0\n",
       "Death_year           0\n",
       "death_reason         0\n",
       "dtype: int64"
      ]
     },
     "execution_count": 129,
     "metadata": {},
     "output_type": "execute_result"
    }
   ],
   "source": [
    "mergedData.isna().sum()"
   ]
  },
  {
   "cell_type": "code",
   "execution_count": 130,
   "id": "18c1c0e3",
   "metadata": {},
   "outputs": [
    {
     "data": {
      "text/plain": [
       "(647837, 9)"
      ]
     },
     "execution_count": 130,
     "metadata": {},
     "output_type": "execute_result"
    }
   ],
   "source": [
    "mergedData.drop_duplicates()\n",
    "mergedData.shape"
   ]
  },
  {
   "cell_type": "code",
   "execution_count": null,
   "id": "c0f68652",
   "metadata": {},
   "outputs": [],
   "source": []
  }
 ],
 "metadata": {
  "kernelspec": {
   "display_name": "Python 3 (ipykernel)",
   "language": "python",
   "name": "python3"
  },
  "language_info": {
   "codemirror_mode": {
    "name": "ipython",
    "version": 3
   },
   "file_extension": ".py",
   "mimetype": "text/x-python",
   "name": "python",
   "nbconvert_exporter": "python",
   "pygments_lexer": "ipython3",
   "version": "3.9.12"
  }
 },
 "nbformat": 4,
 "nbformat_minor": 5
}
