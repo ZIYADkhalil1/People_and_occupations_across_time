{
 "cells": [
  {
   "cell_type": "markdown",
   "id": "056915e2",
   "metadata": {},
   "source": [
    "## Building an ETL data pipeline\n"
   ]
  },
  {
   "cell_type": "markdown",
   "id": "dd68b8b0",
   "metadata": {},
   "source": [
    "### Importing packages\n"
   ]
  },
  {
   "cell_type": "code",
   "execution_count": 86,
   "id": "b50fa51b",
   "metadata": {},
   "outputs": [],
   "source": [
    "import pandas as pd\n",
    "import matplotlib.pyplot as plt\n"
   ]
  },
  {
   "cell_type": "markdown",
   "id": "b589ec44",
   "metadata": {},
   "source": [
    "### extracting the data"
   ]
  },
  {
   "cell_type": "code",
   "execution_count": 17,
   "id": "5109777a",
   "metadata": {},
   "outputs": [],
   "source": [
    "def extract():\n",
    "    data1 = pd.read_csv('dataset1.csv')\n",
    "    data2 = pd.read_csv('dataset2.csv')\n",
    "    return data1,data2"
   ]
  },
  {
   "cell_type": "markdown",
   "id": "629e198e",
   "metadata": {},
   "source": [
    "### Transform the data"
   ]
  },
  {
   "cell_type": "markdown",
   "id": "1d7d022a",
   "metadata": {},
   "source": [
    "Transforming data steps:\n",
    "\n",
    "    1) creation of a new attribute (Age) in the second dataset\n",
    "    2) renaming the columns (giving the columns simpler and more descriptive names)\n",
    "    3) standardising the attributes types for matching\n",
    "    4) merge datasets (inner join) using Name, Age,Gender\n",
    "    5) dropping duplicate values, as it might be inconsistent due to :\n",
    "        - identical ages and names for two or more different persons\n",
    "        - redundant data\n",
    "    6) impute null values\n",
    " \n",
    "    "
   ]
  },
  {
   "cell_type": "markdown",
   "id": "be137435",
   "metadata": {},
   "source": [
    "#### Creating new columns"
   ]
  },
  {
   "cell_type": "code",
   "execution_count": 18,
   "id": "692745ef",
   "metadata": {},
   "outputs": [],
   "source": [
    "def createNewColumns(data1 , data2):\n",
    "    data2['Age'] = data2['Death year'] - data2['Birth year']\n",
    "    return data1, data2"
   ]
  },
  {
   "cell_type": "markdown",
   "id": "a1645809",
   "metadata": {},
   "source": [
    "#### Renaming columns"
   ]
  },
  {
   "cell_type": "code",
   "execution_count": 19,
   "id": "cefbd4ee",
   "metadata": {},
   "outputs": [],
   "source": [
    "def renameColumns(data1, data2):\n",
    "    data1 = data1.rename(columns = {'Short description':'short_description' , 'Age of death' : 'Age'})\n",
    "    data2 = data2.rename(columns = {'Birth year' : 'Birth_year' , 'Death year' : 'Death_year' , 'Manner of death' : 'death_reason'})\n",
    "    return data1, data2\n",
    "    "
   ]
  },
  {
   "cell_type": "markdown",
   "id": "193cc257",
   "metadata": {},
   "source": [
    "#### Transforming data types"
   ]
  },
  {
   "cell_type": "code",
   "execution_count": 20,
   "id": "87c674f8",
   "metadata": {},
   "outputs": [],
   "source": [
    "def attributeTypesTransform(data1,data2):\n",
    "    data1['Age'] = data1['Age'].round().astype(int)\n",
    "    data2['Gender'] = data2['Gender'].replace({1.0 : 'Male' , 2.0 : 'Female'})\n",
    "    data2['Age'] = data2['Age'].round().astype(int)\n",
    "    return data1, data2"
   ]
  },
  {
   "cell_type": "markdown",
   "id": "9ae98f41",
   "metadata": {},
   "source": [
    "#### Merging data sets"
   ]
  },
  {
   "cell_type": "code",
   "execution_count": 21,
   "id": "ec6bf64e",
   "metadata": {},
   "outputs": [],
   "source": [
    "def mergeDatasets(data1, data2):\n",
    "    mergedData = pd.merge(data1 , data2 , on=['Name', 'Age','Gender'], how='inner')\n",
    "    return mergedData"
   ]
  },
  {
   "cell_type": "markdown",
   "id": "d1d73fa6",
   "metadata": {},
   "source": [
    "#### Dropping duplicate values"
   ]
  },
  {
   "cell_type": "code",
   "execution_count": 22,
   "id": "1941c28c",
   "metadata": {},
   "outputs": [],
   "source": [
    "def dropDuplicates(mergedData):\n",
    "    mergedData.drop_duplicates()\n",
    "    return mergedData"
   ]
  },
  {
   "cell_type": "markdown",
   "id": "68ab14cc",
   "metadata": {},
   "source": [
    "#### impute the data:\n",
    "\n",
    "    short_description: Fill missing values with \"No description available\"\n",
    "    Gender: Use the mode (most frequent value)\n",
    "    Occupation: Fill with \"Unknown\"\n",
    "    Country: Fill with \"Unknown\"\n",
    "    death_reason: Fill with \"Not specified\""
   ]
  },
  {
   "cell_type": "code",
   "execution_count": 23,
   "id": "80e997b8",
   "metadata": {},
   "outputs": [],
   "source": [
    "def imputeNullData(mergedData):\n",
    "    mergedData.fillna({\n",
    "        'short_description':'No description available' ,\n",
    "        'Occupation': 'Unknown', 'Gender': mergedData['Gender'].mode()[0],\n",
    "        'Country': 'Unknown', 'death_reason':'Not specified'}, inplace=True)\n",
    "    return mergedData"
   ]
  },
  {
   "cell_type": "markdown",
   "id": "a169f69f",
   "metadata": {},
   "source": [
    "### The Transform function that contains the logic "
   ]
  },
  {
   "cell_type": "code",
   "execution_count": 24,
   "id": "f835fea7",
   "metadata": {},
   "outputs": [],
   "source": [
    "def transform(data1, data2):\n",
    "    data1 , data2 = createNewColumns(data1 , data2)\n",
    "    data1 = data1.dropna(subset=['Age of death'])\n",
    "    data1, data2 = renameColumns(data1, data2)   \n",
    "    data1, data2 = attributeTypesTransform(data1,data2)\n",
    "    mergedData = mergeDatasets(data1, data2)\n",
    "    mergedData = dropDuplicates(mergedData)\n",
    "    mergedData = imputeNullData(mergedData)\n",
    "    return mergedData"
   ]
  },
  {
   "cell_type": "markdown",
   "id": "bf37518c",
   "metadata": {},
   "source": [
    "### Loading the data"
   ]
  },
  {
   "cell_type": "code",
   "execution_count": 25,
   "id": "8abf77ac",
   "metadata": {},
   "outputs": [],
   "source": [
    "def load(mergedData):\n",
    "    mergedData.to_csv('mergedData.csv', index=False)\n"
   ]
  },
  {
   "cell_type": "markdown",
   "id": "70c297af",
   "metadata": {},
   "source": [
    "### Running the pipeline"
   ]
  },
  {
   "cell_type": "code",
   "execution_count": 26,
   "id": "d93b6ec3",
   "metadata": {},
   "outputs": [],
   "source": [
    "data1, data2 = extract()"
   ]
  },
  {
   "cell_type": "code",
   "execution_count": 27,
   "id": "8808d642",
   "metadata": {},
   "outputs": [],
   "source": [
    "mergedData = transform(data1, data2)"
   ]
  },
  {
   "cell_type": "code",
   "execution_count": 28,
   "id": "01ff608e",
   "metadata": {},
   "outputs": [],
   "source": [
    "load(mergedData)"
   ]
  },
  {
   "cell_type": "markdown",
   "id": "46859660",
   "metadata": {},
   "source": [
    "## Exploring the new dataset"
   ]
  },
  {
   "cell_type": "code",
   "execution_count": 29,
   "id": "4d9c13f2",
   "metadata": {},
   "outputs": [
    {
     "name": "stdout",
     "output_type": "stream",
     "text": [
      "<class 'pandas.core.frame.DataFrame'>\n",
      "Int64Index: 647837 entries, 0 to 647836\n",
      "Data columns (total 9 columns):\n",
      " #   Column             Non-Null Count   Dtype  \n",
      "---  ------             --------------   -----  \n",
      " 0   Name               647837 non-null  object \n",
      " 1   short_description  647837 non-null  object \n",
      " 2   Gender             647837 non-null  object \n",
      " 3   Occupation         647837 non-null  object \n",
      " 4   Age                647837 non-null  int32  \n",
      " 5   Country            647837 non-null  object \n",
      " 6   Birth_year         647837 non-null  int64  \n",
      " 7   Death_year         647837 non-null  float64\n",
      " 8   death_reason       647837 non-null  object \n",
      "dtypes: float64(1), int32(1), int64(1), object(6)\n",
      "memory usage: 47.0+ MB\n"
     ]
    }
   ],
   "source": [
    "mergedData.info()"
   ]
  },
  {
   "cell_type": "code",
   "execution_count": 30,
   "id": "e2f85b92",
   "metadata": {},
   "outputs": [
    {
     "data": {
      "text/html": [
       "<div>\n",
       "<style scoped>\n",
       "    .dataframe tbody tr th:only-of-type {\n",
       "        vertical-align: middle;\n",
       "    }\n",
       "\n",
       "    .dataframe tbody tr th {\n",
       "        vertical-align: top;\n",
       "    }\n",
       "\n",
       "    .dataframe thead th {\n",
       "        text-align: right;\n",
       "    }\n",
       "</style>\n",
       "<table border=\"1\" class=\"dataframe\">\n",
       "  <thead>\n",
       "    <tr style=\"text-align: right;\">\n",
       "      <th></th>\n",
       "      <th>Age</th>\n",
       "      <th>Birth_year</th>\n",
       "      <th>Death_year</th>\n",
       "    </tr>\n",
       "  </thead>\n",
       "  <tbody>\n",
       "    <tr>\n",
       "      <th>count</th>\n",
       "      <td>647837.000000</td>\n",
       "      <td>647837.000000</td>\n",
       "      <td>647837.000000</td>\n",
       "    </tr>\n",
       "    <tr>\n",
       "      <th>mean</th>\n",
       "      <td>69.309004</td>\n",
       "      <td>1844.752007</td>\n",
       "      <td>1914.061011</td>\n",
       "    </tr>\n",
       "    <tr>\n",
       "      <th>std</th>\n",
       "      <td>16.601248</td>\n",
       "      <td>147.963482</td>\n",
       "      <td>151.703546</td>\n",
       "    </tr>\n",
       "    <tr>\n",
       "      <th>min</th>\n",
       "      <td>0.000000</td>\n",
       "      <td>-2284.000000</td>\n",
       "      <td>-2200.000000</td>\n",
       "    </tr>\n",
       "    <tr>\n",
       "      <th>25%</th>\n",
       "      <td>60.000000</td>\n",
       "      <td>1827.000000</td>\n",
       "      <td>1894.000000</td>\n",
       "    </tr>\n",
       "    <tr>\n",
       "      <th>50%</th>\n",
       "      <td>72.000000</td>\n",
       "      <td>1887.000000</td>\n",
       "      <td>1955.000000</td>\n",
       "    </tr>\n",
       "    <tr>\n",
       "      <th>75%</th>\n",
       "      <td>81.000000</td>\n",
       "      <td>1918.000000</td>\n",
       "      <td>1994.000000</td>\n",
       "    </tr>\n",
       "    <tr>\n",
       "      <th>max</th>\n",
       "      <td>169.000000</td>\n",
       "      <td>2016.000000</td>\n",
       "      <td>2021.000000</td>\n",
       "    </tr>\n",
       "  </tbody>\n",
       "</table>\n",
       "</div>"
      ],
      "text/plain": [
       "                 Age     Birth_year     Death_year\n",
       "count  647837.000000  647837.000000  647837.000000\n",
       "mean       69.309004    1844.752007    1914.061011\n",
       "std        16.601248     147.963482     151.703546\n",
       "min         0.000000   -2284.000000   -2200.000000\n",
       "25%        60.000000    1827.000000    1894.000000\n",
       "50%        72.000000    1887.000000    1955.000000\n",
       "75%        81.000000    1918.000000    1994.000000\n",
       "max       169.000000    2016.000000    2021.000000"
      ]
     },
     "execution_count": 30,
     "metadata": {},
     "output_type": "execute_result"
    }
   ],
   "source": [
    "mergedData.describe()"
   ]
  },
  {
   "cell_type": "code",
   "execution_count": 31,
   "id": "2d70da27",
   "metadata": {},
   "outputs": [
    {
     "data": {
      "text/plain": [
       "<Axes: >"
      ]
     },
     "execution_count": 31,
     "metadata": {},
     "output_type": "execute_result"
    },
    {
     "data": {
      "image/png": "[encoded data removed]",
      "text/plain": [
       "<Figure size 432x288 with 1 Axes>"
      ]
     },
     "metadata": {
      "needs_background": "light"
     },
     "output_type": "display_data"
    }
   ],
   "source": [
    "mergedData['Birth_year'].hist()"
   ]
  },
  {
   "cell_type": "markdown",
   "id": "ad47c58e",
   "metadata": {},
   "source": [
    "#### 1. Gender Distribution:"
   ]
  },
  {
   "cell_type": "code",
   "execution_count": 34,
   "id": "b7c98443",
   "metadata": {},
   "outputs": [
    {
     "data": {
      "text/plain": [
       "0         Male\n",
       "1          NaN\n",
       "2         Male\n",
       "3         Male\n",
       "4         Male\n",
       "          ... \n",
       "917126    Male\n",
       "917127    Male\n",
       "917128    Male\n",
       "917129    Male\n",
       "917130    Male\n",
       "Name: Gender, Length: 917131, dtype: object"
      ]
     },
     "execution_count": 34,
     "metadata": {},
     "output_type": "execute_result"
    }
   ],
   "source": [
    "# Gender in the old datasets:\n",
    "data1['Gender']"
   ]
  },
  {
   "cell_type": "code",
   "execution_count": 49,
   "id": "d4f1ea91",
   "metadata": {},
   "outputs": [
    {
     "data": {
      "text/plain": [
       "Male      90.065539\n",
       "Female     9.934461\n",
       "Name: Gender, dtype: float64"
      ]
     },
     "execution_count": 49,
     "metadata": {},
     "output_type": "execute_result"
    }
   ],
   "source": [
    "valueCountsOfData1 = data1['Gender'].value_counts(normalize=True) * 100\n",
    "valueCountsOfData1"
   ]
  },
  {
   "cell_type": "code",
   "execution_count": 50,
   "id": "7775a51d",
   "metadata": {},
   "outputs": [
    {
     "data": {
      "text/plain": [
       "1.0    90.119458\n",
       "2.0     9.880542\n",
       "Name: Gender, dtype: float64"
      ]
     },
     "execution_count": 50,
     "metadata": {},
     "output_type": "execute_result"
    }
   ],
   "source": [
    "valueCountsOfData2 = data2['Gender'].value_counts(normalize=True) * 100\n",
    "valueCountsOfData2"
   ]
  },
  {
   "cell_type": "code",
   "execution_count": 53,
   "id": "8ad1697c",
   "metadata": {},
   "outputs": [
    {
     "data": {
      "text/plain": [
       "Male      91.24749\n",
       "Female     8.75251\n",
       "Name: Gender, dtype: float64"
      ]
     },
     "execution_count": 53,
     "metadata": {},
     "output_type": "execute_result"
    }
   ],
   "source": [
    "# genders in the new dataset: \n",
    "mergedData['Gender'].value_counts(normalize=True)*100"
   ]
  },
  {
   "cell_type": "markdown",
   "id": "488ad638",
   "metadata": {},
   "source": [
    "all the datasets has an obvious bias towards the Male gender, but the merged dataset contains more males percent than the others"
   ]
  },
  {
   "cell_type": "markdown",
   "id": "a322ffc9",
   "metadata": {},
   "source": [
    "#### 2. Geographic Representation:\n"
   ]
  },
  {
   "cell_type": "code",
   "execution_count": 55,
   "id": "4bd4f832",
   "metadata": {},
   "outputs": [
    {
     "data": {
      "text/plain": [
       "0           Chen dynasty\n",
       "1                    NaN\n",
       "2              Australia\n",
       "3                Germany\n",
       "4         Czechoslovakia\n",
       "               ...      \n",
       "855984               NaN\n",
       "855985            Poland\n",
       "855986           Germany\n",
       "855987         Argentina\n",
       "855988           Germany\n",
       "Name: Country, Length: 855989, dtype: object"
      ]
     },
     "execution_count": 55,
     "metadata": {},
     "output_type": "execute_result"
    }
   ],
   "source": [
    "# we will compare the old data set (dataset2) with the new merged dataset\n",
    "data2['Country']"
   ]
  },
  {
   "cell_type": "markdown",
   "id": "c0db2045",
   "metadata": {},
   "source": [
    " ##### countries most represented are:"
   ]
  },
  {
   "cell_type": "code",
   "execution_count": 63,
   "id": "ad580869",
   "metadata": {},
   "outputs": [
    {
     "data": {
      "text/plain": [
       "<Axes: >"
      ]
     },
     "execution_count": 63,
     "metadata": {},
     "output_type": "execute_result"
    },
    {
     "data": {
      "image/png": "[encoded data removed]",
      "text/plain": [
       "<Figure size 432x288 with 1 Axes>"
      ]
     },
     "metadata": {
      "needs_background": "light"
     },
     "output_type": "display_data"
    }
   ],
   "source": [
    "((data2['Country'].value_counts(normalize=True)*100).head(10)).plot(kind='bar')"
   ]
  },
  {
   "cell_type": "code",
   "execution_count": 64,
   "id": "94dc75e6",
   "metadata": {},
   "outputs": [
    {
     "data": {
      "text/plain": [
       "<Axes: >"
      ]
     },
     "execution_count": 64,
     "metadata": {},
     "output_type": "execute_result"
    },
    {
     "data": {
      "image/png": "[encoded data removed]",
      "text/plain": [
       "<Figure size 432x288 with 1 Axes>"
      ]
     },
     "metadata": {
      "needs_background": "light"
     },
     "output_type": "display_data"
    }
   ],
   "source": [
    "((mergedData['Country'].value_counts(normalize=True)*100).head(10)).plot(kind = 'bar')"
   ]
  },
  {
   "cell_type": "markdown",
   "id": "cab3956b",
   "metadata": {},
   "source": [
    "After merging the two datasets, an unknown column represented the null values, but no discrepancies"
   ]
  },
  {
   "cell_type": "markdown",
   "id": "2d9109a2",
   "metadata": {},
   "source": [
    "### 3. Occupation Trends"
   ]
  },
  {
   "cell_type": "code",
   "execution_count": 95,
   "id": "c2faf0fa",
   "metadata": {},
   "outputs": [],
   "source": [
    "MaleData = mergedData[mergedData['Gender'] == 'Male']"
   ]
  },
  {
   "cell_type": "code",
   "execution_count": 96,
   "id": "5d08aa26",
   "metadata": {},
   "outputs": [],
   "source": [
    "FemaleData = mergedData[mergedData['Gender'] == 'Female']"
   ]
  },
  {
   "cell_type": "code",
   "execution_count": 97,
   "id": "5e54ae5c",
   "metadata": {
    "scrolled": true
   },
   "outputs": [
    {
     "data": {
      "text/plain": [
       "<Axes: >"
      ]
     },
     "execution_count": 97,
     "metadata": {},
     "output_type": "execute_result"
    },
    {
     "data": {
      "image/png": "[encoded data removed]",
      "text/plain": [
       "<Figure size 432x288 with 1 Axes>"
      ]
     },
     "metadata": {
      "needs_background": "light"
     },
     "output_type": "display_data"
    }
   ],
   "source": [
    "((MaleData['Occupation'].value_counts(normalize=True)*100).head(10)).plot(kind = 'bar')"
   ]
  },
  {
   "cell_type": "code",
   "execution_count": 98,
   "id": "a16365b0",
   "metadata": {
    "scrolled": true
   },
   "outputs": [
    {
     "data": {
      "text/plain": [
       "<Axes: >"
      ]
     },
     "execution_count": 98,
     "metadata": {},
     "output_type": "execute_result"
    },
    {
     "data": {
      "image/png": "[encoded data removed]",
      "text/plain": [
       "<Figure size 432x288 with 1 Axes>"
      ]
     },
     "metadata": {
      "needs_background": "light"
     },
     "output_type": "display_data"
    }
   ],
   "source": [
    "((FemaleData['Occupation'].value_counts(normalize=True)*100).head(10)).plot(kind = 'bar')"
   ]
  },
  {
   "cell_type": "markdown",
   "id": "41eee23d",
   "metadata": {},
   "source": [
    "#### 4. Historical Patterns:\n"
   ]
  },
  {
   "cell_type": "code",
   "execution_count": 99,
   "id": "91ee437f",
   "metadata": {
    "scrolled": true
   },
   "outputs": [
    {
     "data": {
      "text/plain": [
       "69.30900365369683"
      ]
     },
     "execution_count": 99,
     "metadata": {},
     "output_type": "execute_result"
    }
   ],
   "source": [
    "mergedData['Age'].mean()"
   ]
  },
  {
   "cell_type": "markdown",
   "id": "554b5383",
   "metadata": {},
   "source": [
    "the average of the whole dataset is near 69 years, but let's look into each gender through out all the data"
   ]
  },
  {
   "cell_type": "code",
   "execution_count": 100,
   "id": "658cd6c4",
   "metadata": {},
   "outputs": [
    {
     "data": {
      "text/plain": [
       "69.1235944412021"
      ]
     },
     "execution_count": 100,
     "metadata": {},
     "output_type": "execute_result"
    }
   ],
   "source": [
    "MaleData['Age'].mean()"
   ]
  },
  {
   "cell_type": "code",
   "execution_count": 101,
   "id": "a87acac9",
   "metadata": {},
   "outputs": [
    {
     "data": {
      "text/plain": [
       "71.24194913759656"
      ]
     },
     "execution_count": 101,
     "metadata": {},
     "output_type": "execute_result"
    }
   ],
   "source": [
    "FemaleData['Age'].mean()"
   ]
  },
  {
   "cell_type": "code",
   "execution_count": 108,
   "id": "cb711ea9",
   "metadata": {},
   "outputs": [
    {
     "data": {
      "image/png": "[encoded data removed]",
      "text/plain": [
       "<Figure size 1008x576 with 1 Axes>"
      ]
     },
     "metadata": {
      "needs_background": "light"
     },
     "output_type": "display_data"
    }
   ],
   "source": [
    "plt.figure(figsize=(14, 8))\n",
    "mean_ages = (mergedData.groupby('Country')['Age'].mean().sort_values(ascending=False)).head(30).plot(kind = 'bar')"
   ]
  },
  {
   "cell_type": "code",
   "execution_count": 111,
   "id": "5b42a0da",
   "metadata": {},
   "outputs": [
    {
     "data": {
      "text/plain": [
       "Country\n",
       "Shang dynasty                       99.00\n",
       "Francesa                            99.00\n",
       "Ho Chi Minh City                    97.00\n",
       "Lakota people                       94.00\n",
       "fictional extraterrestrial          94.00\n",
       "Kingdom of Rheged                   94.00\n",
       "Iowa                                93.00\n",
       "British West Indies                 93.00\n",
       "Champa                              92.50\n",
       "French Madagascar                   92.00\n",
       "Emirate of Sicily                   92.00\n",
       "Slovaks                             91.00\n",
       "New York                            91.00\n",
       "Saint Lucia                         90.75\n",
       "Phlius                              90.00\n",
       "Kingdom of Aksum                    90.00\n",
       "Asia                                89.00\n",
       "México                              89.00\n",
       "nationality                         89.00\n",
       "Duchy of Austria                    89.00\n",
       "Turkish                             88.00\n",
       "Kenya Colony                        86.00\n",
       "Indigenous peoples of America       86.00\n",
       "Lâm Ấp                              86.00\n",
       "Kurdistan                           86.00\n",
       "West Ukrainian People's Republic    86.00\n",
       "Cook Islands                        85.00\n",
       "Ashanti Empire                      85.00\n",
       "Gupta Empire                        85.00\n",
       "Holy See                            85.00\n",
       "Name: Age, dtype: float64"
      ]
     },
     "execution_count": 111,
     "metadata": {},
     "output_type": "execute_result"
    }
   ],
   "source": [
    "(mergedData.groupby('Country')['Age'].mean().sort_values(ascending=False)).head(30)"
   ]
  },
  {
   "cell_type": "markdown",
   "id": "a714e5ee",
   "metadata": {},
   "source": [
    "The average Death age is diffrent in ancient countries than newer countries, we will try to visualize the data of newer times"
   ]
  },
  {
   "cell_type": "code",
   "execution_count": 118,
   "id": "86b80431",
   "metadata": {},
   "outputs": [],
   "source": [
    "newerData = mergedData[mergedData['Birth_year'] > 1500]"
   ]
  },
  {
   "cell_type": "code",
   "execution_count": 119,
   "id": "0cd1d2ad",
   "metadata": {},
   "outputs": [
    {
     "data": {
      "image/png": "[encoded data removed]",
      "text/plain": [
       "<Figure size 1008x576 with 1 Axes>"
      ]
     },
     "metadata": {
      "needs_background": "light"
     },
     "output_type": "display_data"
    }
   ],
   "source": [
    "plt.figure(figsize=(14, 8))\n",
    "mean_ages = (newerData.groupby('Country')['Age'].mean().sort_values(ascending=False)).head(30).plot(kind = 'bar')"
   ]
  },
  {
   "cell_type": "markdown",
   "id": "5390d6a1",
   "metadata": {},
   "source": [
    "The average has changed over newer periods of time"
   ]
  },
  {
   "cell_type": "markdown",
   "id": "ee939f86",
   "metadata": {},
   "source": [
    "#### 5. Analysis of Missing Data:\n",
    "\n",
    "After looking into the plots, the occupations does not vary much from male to female."
   ]
  },
  {
   "cell_type": "markdown",
   "id": "451b8925",
   "metadata": {},
   "source": [
    "for dealing with such data , the best practice in this situation is to impute the null values with new values that refers to unknown to get the cleanest data set\n",
    "but there are some recommendations for each column to get more out of the data we have\n",
    "\n",
    "    1) Gender: we can derive the gender from the Name, but when using a better library and more complete libraries\n",
    "    2) Occupation: can be derived from short_description, it might contain some insights, using NLP\n",
    "    3) Country: can also derived from short_description using NLP techniques\n",
    "    4) death_reason is the hardest, it can be derived from a set of attributes using ML techniques, mostly age, country, birth year, occupation, Gender but might add more bias to our data, as most of the records are \"Male\"\n"
   ]
  },
  {
   "cell_type": "code",
   "execution_count": null,
   "id": "aea0b348",
   "metadata": {},
   "outputs": [],
   "source": []
  }
 ],
 "metadata": {
  "kernelspec": {
   "display_name": "Python 3 (ipykernel)",
   "language": "python",
   "name": "python3"
  },
  "language_info": {
   "codemirror_mode": {
    "name": "ipython",
    "version": 3
   },
   "file_extension": ".py",
   "mimetype": "text/x-python",
   "name": "python",
   "nbconvert_exporter": "python",
   "pygments_lexer": "ipython3",
   "version": "3.9.12"
  }
 },
 "nbformat": 4,
 "nbformat_minor": 5
}
