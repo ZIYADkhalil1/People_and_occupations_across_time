{
 "cells": [
  {
   "cell_type": "code",
   "execution_count": 1,
   "id": "79505069",
   "metadata": {},
   "outputs": [
    {
     "name": "stderr",
     "output_type": "stream",
     "text": [
      "C:\\Users\\pc\\anaconda3\\envs\\tensor\\lib\\site-packages\\tqdm\\auto.py:21: TqdmWarning: IProgress not found. Please update jupyter and ipywidgets. See https://ipywidgets.readthedocs.io/en/stable/user_install.html\n",
      "  from .autonotebook import tqdm as notebook_tqdm\n"
     ]
    }
   ],
   "source": [
    "import pandas as pd\n",
    "import seaborn as sns\n",
    "import matplotlib.pyplot as plt\n",
    "import sweetviz as sv"
   ]
  },
  {
   "cell_type": "code",
   "execution_count": 2,
   "id": "23e922fb",
   "metadata": {},
   "outputs": [],
   "source": [
    "data1 = pd.read_csv('dataset1.csv')\n",
    "data2 = pd.read_csv('dataset2.csv')"
   ]
  },
  {
   "cell_type": "markdown",
   "id": "3f8aa6f9",
   "metadata": {},
   "source": [
    "## exploring data\n",
    "### exploring first dataset: dataset1"
   ]
  },
  {
   "cell_type": "code",
   "execution_count": 3,
   "id": "c524c24c",
   "metadata": {},
   "outputs": [
    {
     "data": {
      "text/plain": [
       "(917131, 5)"
      ]
     },
     "execution_count": 3,
     "metadata": {},
     "output_type": "execute_result"
    }
   ],
   "source": [
    "data1.shape"
   ]
  },
  {
   "cell_type": "code",
   "execution_count": 4,
   "id": "d60ced31",
   "metadata": {},
   "outputs": [
    {
     "data": {
      "text/plain": [
       "Index(['Name', 'Short description', 'Gender', 'Occupation', 'Age of death'], dtype='object')"
      ]
     },
     "execution_count": 4,
     "metadata": {},
     "output_type": "execute_result"
    }
   ],
   "source": [
    "data1.columns"
   ]
  },
  {
   "cell_type": "code",
   "execution_count": 5,
   "id": "1f497f22",
   "metadata": {},
   "outputs": [
    {
     "data": {
      "text/html": [
       "<div>\n",
       "<style scoped>\n",
       "    .dataframe tbody tr th:only-of-type {\n",
       "        vertical-align: middle;\n",
       "    }\n",
       "\n",
       "    .dataframe tbody tr th {\n",
       "        vertical-align: top;\n",
       "    }\n",
       "\n",
       "    .dataframe thead th {\n",
       "        text-align: right;\n",
       "    }\n",
       "</style>\n",
       "<table border=\"1\" class=\"dataframe\">\n",
       "  <thead>\n",
       "    <tr style=\"text-align: right;\">\n",
       "      <th></th>\n",
       "      <th>Name</th>\n",
       "      <th>Short description</th>\n",
       "      <th>Gender</th>\n",
       "      <th>Occupation</th>\n",
       "      <th>Age of death</th>\n",
       "    </tr>\n",
       "  </thead>\n",
       "  <tbody>\n",
       "    <tr>\n",
       "      <th>0</th>\n",
       "      <td>Vilém Pospíšil</td>\n",
       "      <td>Baptist minister</td>\n",
       "      <td>Male</td>\n",
       "      <td>Pastor</td>\n",
       "      <td>73.0</td>\n",
       "    </tr>\n",
       "    <tr>\n",
       "      <th>1</th>\n",
       "      <td>Elise Schmieden</td>\n",
       "      <td>schrijfster (1841-1896)</td>\n",
       "      <td>NaN</td>\n",
       "      <td>Artist</td>\n",
       "      <td>55.0</td>\n",
       "    </tr>\n",
       "    <tr>\n",
       "      <th>2</th>\n",
       "      <td>Jerónimo de Rueda</td>\n",
       "      <td>Spanish baroque painter</td>\n",
       "      <td>Male</td>\n",
       "      <td>Artist</td>\n",
       "      <td>80.0</td>\n",
       "    </tr>\n",
       "    <tr>\n",
       "      <th>3</th>\n",
       "      <td>August Karl Wilhelm Weissenbruch</td>\n",
       "      <td>German author</td>\n",
       "      <td>Male</td>\n",
       "      <td>Artist</td>\n",
       "      <td>82.0</td>\n",
       "    </tr>\n",
       "    <tr>\n",
       "      <th>4</th>\n",
       "      <td>Gösta Göthlin</td>\n",
       "      <td>schwedischer Arzt und Bakteriologe</td>\n",
       "      <td>Male</td>\n",
       "      <td>Physician</td>\n",
       "      <td>89.0</td>\n",
       "    </tr>\n",
       "  </tbody>\n",
       "</table>\n",
       "</div>"
      ],
      "text/plain": [
       "                               Name                   Short description  \\\n",
       "0                    Vilém Pospíšil                    Baptist minister   \n",
       "1                   Elise Schmieden             schrijfster (1841-1896)   \n",
       "2                 Jerónimo de Rueda             Spanish baroque painter   \n",
       "3  August Karl Wilhelm Weissenbruch                       German author   \n",
       "4                     Gösta Göthlin  schwedischer Arzt und Bakteriologe   \n",
       "\n",
       "  Gender Occupation  Age of death  \n",
       "0   Male     Pastor          73.0  \n",
       "1    NaN     Artist          55.0  \n",
       "2   Male     Artist          80.0  \n",
       "3   Male     Artist          82.0  \n",
       "4   Male  Physician          89.0  "
      ]
     },
     "execution_count": 5,
     "metadata": {},
     "output_type": "execute_result"
    }
   ],
   "source": [
    "data1.head()"
   ]
  },
  {
   "cell_type": "code",
   "execution_count": 6,
   "id": "b39e0a2d",
   "metadata": {},
   "outputs": [
    {
     "name": "stdout",
     "output_type": "stream",
     "text": [
      "<class 'pandas.core.frame.DataFrame'>\n",
      "RangeIndex: 917131 entries, 0 to 917130\n",
      "Data columns (total 5 columns):\n",
      " #   Column             Non-Null Count   Dtype  \n",
      "---  ------             --------------   -----  \n",
      " 0   Name               917131 non-null  object \n",
      " 1   Short description  866104 non-null  object \n",
      " 2   Gender             816763 non-null  object \n",
      " 3   Occupation         761744 non-null  object \n",
      " 4   Age of death       917130 non-null  float64\n",
      "dtypes: float64(1), object(4)\n",
      "memory usage: 35.0+ MB\n"
     ]
    }
   ],
   "source": [
    "data1.info()"
   ]
  },
  {
   "cell_type": "code",
   "execution_count": 7,
   "id": "308e1be7",
   "metadata": {},
   "outputs": [
    {
     "data": {
      "text/plain": [
       "Name                      0\n",
       "Short description     51027\n",
       "Gender               100368\n",
       "Occupation           155387\n",
       "Age of death              1\n",
       "dtype: int64"
      ]
     },
     "execution_count": 7,
     "metadata": {},
     "output_type": "execute_result"
    }
   ],
   "source": [
    "data1.isna().sum()"
   ]
  },
  {
   "cell_type": "code",
   "execution_count": 8,
   "id": "df38d857",
   "metadata": {},
   "outputs": [
    {
     "data": {
      "text/plain": [
       "Name                      0\n",
       "Short description     51027\n",
       "Gender               100368\n",
       "Occupation           155387\n",
       "Age of death              1\n",
       "dtype: int64"
      ]
     },
     "execution_count": 8,
     "metadata": {},
     "output_type": "execute_result"
    }
   ],
   "source": [
    "data1.isna().sum()"
   ]
  },
  {
   "cell_type": "code",
   "execution_count": 9,
   "id": "fbb0567e",
   "metadata": {},
   "outputs": [
    {
     "data": {
      "text/plain": [
       "Name                 858685\n",
       "Short description    395713\n",
       "Gender                    2\n",
       "Occupation             7734\n",
       "Age of death            128\n",
       "dtype: int64"
      ]
     },
     "execution_count": 9,
     "metadata": {},
     "output_type": "execute_result"
    }
   ],
   "source": [
    "data1.nunique()"
   ]
  },
  {
   "cell_type": "markdown",
   "id": "ecf6fe8a",
   "metadata": {},
   "source": [
    "analysing occupations "
   ]
  },
  {
   "cell_type": "code",
   "execution_count": 10,
   "id": "099c4f0d",
   "metadata": {},
   "outputs": [
    {
     "data": {
      "text/plain": [
       "Name                  object\n",
       "Short description     object\n",
       "Gender                object\n",
       "Occupation            object\n",
       "Age of death         float64\n",
       "dtype: object"
      ]
     },
     "execution_count": 10,
     "metadata": {},
     "output_type": "execute_result"
    }
   ],
   "source": [
    "data1.dtypes"
   ]
  },
  {
   "cell_type": "code",
   "execution_count": 11,
   "id": "579216b2",
   "metadata": {
    "scrolled": true
   },
   "outputs": [
    {
     "data": {
      "text/plain": [
       "<Axes: >"
      ]
     },
     "execution_count": 11,
     "metadata": {},
     "output_type": "execute_result"
    },
    {
     "data": {
      "image/png": "[encoded data removed]",
      "text/plain": [
       "<Figure size 432x288 with 1 Axes>"
      ]
     },
     "metadata": {
      "needs_background": "light"
     },
     "output_type": "display_data"
    }
   ],
   "source": [
    "data1['Age of death'].hist()"
   ]
  },
  {
   "cell_type": "markdown",
   "id": "bec1e1ba",
   "metadata": {},
   "source": [
    "Gender to age of death scatter"
   ]
  },
  {
   "cell_type": "markdown",
   "id": "7e84edcb",
   "metadata": {},
   "source": [
    "Creating a barplot between the gender and age of death"
   ]
  },
  {
   "cell_type": "code",
   "execution_count": 12,
   "id": "796ad83a",
   "metadata": {},
   "outputs": [
    {
     "name": "stderr",
     "output_type": "stream",
     "text": [
      "C:\\Users\\pc\\AppData\\Local\\Temp\\ipykernel_31576\\2812070322.py:2: SettingWithCopyWarning: \n",
      "A value is trying to be set on a copy of a slice from a DataFrame\n",
      "\n",
      "See the caveats in the documentation: https://pandas.pydata.org/pandas-docs/stable/user_guide/indexing.html#returning-a-view-versus-a-copy\n",
      "  barPlotData.dropna(inplace=True)\n"
     ]
    },
    {
     "data": {
      "text/plain": [
       "0         73\n",
       "2         80\n",
       "3         82\n",
       "4         89\n",
       "5         74\n",
       "          ..\n",
       "917126    56\n",
       "917127    72\n",
       "917128    75\n",
       "917129    83\n",
       "917130    37\n",
       "Name: Age of death, Length: 816762, dtype: int32"
      ]
     },
     "execution_count": 12,
     "metadata": {},
     "output_type": "execute_result"
    }
   ],
   "source": [
    "barPlotData = data1[['Gender','Age of death']]\n",
    "barPlotData.dropna(inplace=True)\n",
    "barPlotData['Age of death'].round().astype(int)"
   ]
  },
  {
   "cell_type": "markdown",
   "id": "9c7744c9",
   "metadata": {},
   "source": [
    "Automated EDA"
   ]
  },
  {
   "cell_type": "code",
   "execution_count": 13,
   "id": "ecdb438d",
   "metadata": {},
   "outputs": [
    {
     "name": "stderr",
     "output_type": "stream",
     "text": [
      "Done! Use 'show' commands to display/save.   |█████████████████████████████████████████| [100%]   00:00 -> (00:00 left)\n"
     ]
    }
   ],
   "source": [
    "report = sv.analyze(data1)\n"
   ]
  },
  {
   "cell_type": "code",
   "execution_count": 14,
   "id": "f31e19e9",
   "metadata": {},
   "outputs": [
    {
     "name": "stdout",
     "output_type": "stream",
     "text": [
      "Report Automated_EDA_report_for_data1.html was generated! NOTEBOOK/COLAB USERS: the web browser MAY not pop up, regardless, the report IS saved in your notebook/colab files.\n"
     ]
    }
   ],
   "source": [
    "report.show_html('Automated_EDA_report_for_data1.html')"
   ]
  },
  {
   "cell_type": "markdown",
   "id": "3438091e",
   "metadata": {},
   "source": [
    "### dataset2"
   ]
  },
  {
   "cell_type": "code",
   "execution_count": 15,
   "id": "20ffc09c",
   "metadata": {},
   "outputs": [],
   "source": [
    "data2 = pd.read_csv('dataset2.csv')"
   ]
  },
  {
   "cell_type": "code",
   "execution_count": 16,
   "id": "86a95603",
   "metadata": {},
   "outputs": [
    {
     "name": "stdout",
     "output_type": "stream",
     "text": [
      "<class 'pandas.core.frame.DataFrame'>\n",
      "RangeIndex: 855989 entries, 0 to 855988\n",
      "Data columns (total 6 columns):\n",
      " #   Column           Non-Null Count   Dtype  \n",
      "---  ------           --------------   -----  \n",
      " 0   Name             855989 non-null  object \n",
      " 1   Gender           762276 non-null  float64\n",
      " 2   Country          621522 non-null  object \n",
      " 3   Birth year       855989 non-null  int64  \n",
      " 4   Death year       855989 non-null  float64\n",
      " 5   Manner of death  37566 non-null   object \n",
      "dtypes: float64(2), int64(1), object(3)\n",
      "memory usage: 39.2+ MB\n"
     ]
    }
   ],
   "source": [
    "data2.info()"
   ]
  },
  {
   "cell_type": "code",
   "execution_count": 17,
   "id": "00031b8f",
   "metadata": {},
   "outputs": [
    {
     "data": {
      "text/plain": [
       "Name                    0\n",
       "Gender              93713\n",
       "Country            234467\n",
       "Birth year              0\n",
       "Death year              0\n",
       "Manner of death    818423\n",
       "dtype: int64"
      ]
     },
     "execution_count": 17,
     "metadata": {},
     "output_type": "execute_result"
    }
   ],
   "source": [
    "data2.isna().sum()"
   ]
  },
  {
   "cell_type": "code",
   "execution_count": 18,
   "id": "3316c0ce",
   "metadata": {},
   "outputs": [
    {
     "data": {
      "text/plain": [
       "Name               803759\n",
       "Gender                  2\n",
       "Country               971\n",
       "Birth year           2056\n",
       "Death year           2134\n",
       "Manner of death       142\n",
       "dtype: int64"
      ]
     },
     "execution_count": 18,
     "metadata": {},
     "output_type": "execute_result"
    }
   ],
   "source": [
    "data2.nunique()"
   ]
  },
  {
   "cell_type": "code",
   "execution_count": 19,
   "id": "e7d9f23a",
   "metadata": {},
   "outputs": [
    {
     "data": {
      "text/plain": [
       "Name                object\n",
       "Gender             float64\n",
       "Country             object\n",
       "Birth year           int64\n",
       "Death year         float64\n",
       "Manner of death     object\n",
       "dtype: object"
      ]
     },
     "execution_count": 19,
     "metadata": {},
     "output_type": "execute_result"
    }
   ],
   "source": [
    "data2.dtypes"
   ]
  },
  {
   "cell_type": "code",
   "execution_count": 20,
   "id": "dd09382e",
   "metadata": {},
   "outputs": [
    {
     "data": {
      "text/plain": [
       "<Axes: >"
      ]
     },
     "execution_count": 20,
     "metadata": {},
     "output_type": "execute_result"
    },
    {
     "data": {
      "image/png": "[encoded data removed]",
      "text/plain": [
       "<Figure size 600x400 with 1 Axes>"
      ]
     },
     "metadata": {},
     "output_type": "display_data"
    }
   ],
   "source": [
    "data2['Birth year'].hist()"
   ]
  },
  {
   "cell_type": "code",
   "execution_count": 21,
   "id": "902a2091",
   "metadata": {},
   "outputs": [
    {
     "data": {
      "text/plain": [
       "count    855989.000000\n",
       "mean       1845.012382\n",
       "std         147.986234\n",
       "min       -2284.000000\n",
       "25%        1828.000000\n",
       "50%        1887.000000\n",
       "75%        1918.000000\n",
       "max        2016.000000\n",
       "Name: Birth year, dtype: float64"
      ]
     },
     "execution_count": 21,
     "metadata": {},
     "output_type": "execute_result"
    }
   ],
   "source": [
    "data2['Birth year'].describe()"
   ]
  },
  {
   "cell_type": "code",
   "execution_count": 22,
   "id": "6ba8864c",
   "metadata": {},
   "outputs": [
    {
     "name": "stderr",
     "output_type": "stream",
     "text": [
      "Done! Use 'show' commands to display/save.   |█████████████████████████████████████████| [100%]   00:01 -> (00:00 left)\n"
     ]
    }
   ],
   "source": [
    "report2 = sv.analyze(data2)\n"
   ]
  },
  {
   "cell_type": "code",
   "execution_count": 23,
   "id": "8b6a0f8d",
   "metadata": {},
   "outputs": [
    {
     "name": "stdout",
     "output_type": "stream",
     "text": [
      "Report Automated_EDA_report_for_data2.html was generated! NOTEBOOK/COLAB USERS: the web browser MAY not pop up, regardless, the report IS saved in your notebook/colab files.\n"
     ]
    }
   ],
   "source": [
    "report2.show_html('Automated_EDA_report_for_data2.html')"
   ]
  },
  {
   "cell_type": "markdown",
   "id": "7040937a",
   "metadata": {},
   "source": [
    "## Now let's check the common field in the two datasets, (Name)"
   ]
  },
  {
   "cell_type": "markdown",
   "id": "b9d80871",
   "metadata": {},
   "source": [
    "### we will look into the duplicate values first and take an example and compare it in both datasets\n"
   ]
  },
  {
   "cell_type": "code",
   "execution_count": 24,
   "id": "5f60e565",
   "metadata": {},
   "outputs": [
    {
     "data": {
      "text/html": [
       "<div>\n",
       "<style scoped>\n",
       "    .dataframe tbody tr th:only-of-type {\n",
       "        vertical-align: middle;\n",
       "    }\n",
       "\n",
       "    .dataframe tbody tr th {\n",
       "        vertical-align: top;\n",
       "    }\n",
       "\n",
       "    .dataframe thead th {\n",
       "        text-align: right;\n",
       "    }\n",
       "</style>\n",
       "<table border=\"1\" class=\"dataframe\">\n",
       "  <thead>\n",
       "    <tr style=\"text-align: right;\">\n",
       "      <th></th>\n",
       "      <th>Name</th>\n",
       "      <th>Short description</th>\n",
       "      <th>Gender</th>\n",
       "      <th>Occupation</th>\n",
       "      <th>Age of death</th>\n",
       "    </tr>\n",
       "  </thead>\n",
       "  <tbody>\n",
       "    <tr>\n",
       "      <th>2698</th>\n",
       "      <td>John Davies</td>\n",
       "      <td>Poet from south-east Wales</td>\n",
       "      <td>Male</td>\n",
       "      <td>Artist</td>\n",
       "      <td>80.0</td>\n",
       "    </tr>\n",
       "    <tr>\n",
       "      <th>4870</th>\n",
       "      <td>John Anderson</td>\n",
       "      <td>British pathologist</td>\n",
       "      <td>Male</td>\n",
       "      <td>Pathologist</td>\n",
       "      <td>93.0</td>\n",
       "    </tr>\n",
       "    <tr>\n",
       "      <th>5784</th>\n",
       "      <td>William Douglas</td>\n",
       "      <td>Scottish civil servant</td>\n",
       "      <td>Male</td>\n",
       "      <td>NaN</td>\n",
       "      <td>63.0</td>\n",
       "    </tr>\n",
       "    <tr>\n",
       "      <th>6093</th>\n",
       "      <td>Joseph Townsend</td>\n",
       "      <td>British geologist</td>\n",
       "      <td>Male</td>\n",
       "      <td>Researcher</td>\n",
       "      <td>77.0</td>\n",
       "    </tr>\n",
       "    <tr>\n",
       "      <th>6879</th>\n",
       "      <td>Peter Campbell</td>\n",
       "      <td>biochemical immunologist</td>\n",
       "      <td>Male</td>\n",
       "      <td>NaN</td>\n",
       "      <td>84.0</td>\n",
       "    </tr>\n",
       "    <tr>\n",
       "      <th>...</th>\n",
       "      <td>...</td>\n",
       "      <td>...</td>\n",
       "      <td>...</td>\n",
       "      <td>...</td>\n",
       "      <td>...</td>\n",
       "    </tr>\n",
       "    <tr>\n",
       "      <th>917028</th>\n",
       "      <td>John Dillon</td>\n",
       "      <td>Irish politician</td>\n",
       "      <td>Male</td>\n",
       "      <td>Artist</td>\n",
       "      <td>76.0</td>\n",
       "    </tr>\n",
       "    <tr>\n",
       "      <th>917042</th>\n",
       "      <td>William Ashton</td>\n",
       "      <td>English Chartist; weaver; transported to Austr...</td>\n",
       "      <td>Male</td>\n",
       "      <td>Artist</td>\n",
       "      <td>71.0</td>\n",
       "    </tr>\n",
       "    <tr>\n",
       "      <th>917062</th>\n",
       "      <td>John Campbell</td>\n",
       "      <td>senior Northern Irish consultant surgeon and p...</td>\n",
       "      <td>Male</td>\n",
       "      <td>Politician</td>\n",
       "      <td>67.0</td>\n",
       "    </tr>\n",
       "    <tr>\n",
       "      <th>917064</th>\n",
       "      <td>Thomas Webb</td>\n",
       "      <td>British soldier and Methodist</td>\n",
       "      <td>Male</td>\n",
       "      <td>Military personnel</td>\n",
       "      <td>72.0</td>\n",
       "    </tr>\n",
       "    <tr>\n",
       "      <th>917096</th>\n",
       "      <td>Ernest Bacon</td>\n",
       "      <td>association football player (1896-1972)</td>\n",
       "      <td>Male</td>\n",
       "      <td>Athlete</td>\n",
       "      <td>76.0</td>\n",
       "    </tr>\n",
       "  </tbody>\n",
       "</table>\n",
       "<p>58446 rows × 5 columns</p>\n",
       "</div>"
      ],
      "text/plain": [
       "                   Name                                  Short description  \\\n",
       "2698        John Davies                         Poet from south-east Wales   \n",
       "4870      John Anderson                                British pathologist   \n",
       "5784    William Douglas                             Scottish civil servant   \n",
       "6093    Joseph Townsend                                  British geologist   \n",
       "6879     Peter Campbell                           biochemical immunologist   \n",
       "...                 ...                                                ...   \n",
       "917028      John Dillon                                   Irish politician   \n",
       "917042   William Ashton  English Chartist; weaver; transported to Austr...   \n",
       "917062    John Campbell  senior Northern Irish consultant surgeon and p...   \n",
       "917064      Thomas Webb                      British soldier and Methodist   \n",
       "917096     Ernest Bacon            association football player (1896-1972)   \n",
       "\n",
       "       Gender          Occupation  Age of death  \n",
       "2698     Male              Artist          80.0  \n",
       "4870     Male         Pathologist          93.0  \n",
       "5784     Male                 NaN          63.0  \n",
       "6093     Male          Researcher          77.0  \n",
       "6879     Male                 NaN          84.0  \n",
       "...       ...                 ...           ...  \n",
       "917028   Male              Artist          76.0  \n",
       "917042   Male              Artist          71.0  \n",
       "917062   Male          Politician          67.0  \n",
       "917064   Male  Military personnel          72.0  \n",
       "917096   Male             Athlete          76.0  \n",
       "\n",
       "[58446 rows x 5 columns]"
      ]
     },
     "execution_count": 24,
     "metadata": {},
     "output_type": "execute_result"
    }
   ],
   "source": [
    "data1[data1.duplicated(subset=['Name'])]"
   ]
  },
  {
   "cell_type": "code",
   "execution_count": 25,
   "id": "619d6acb",
   "metadata": {},
   "outputs": [
    {
     "data": {
      "text/html": [
       "<div>\n",
       "<style scoped>\n",
       "    .dataframe tbody tr th:only-of-type {\n",
       "        vertical-align: middle;\n",
       "    }\n",
       "\n",
       "    .dataframe tbody tr th {\n",
       "        vertical-align: top;\n",
       "    }\n",
       "\n",
       "    .dataframe thead th {\n",
       "        text-align: right;\n",
       "    }\n",
       "</style>\n",
       "<table border=\"1\" class=\"dataframe\">\n",
       "  <thead>\n",
       "    <tr style=\"text-align: right;\">\n",
       "      <th></th>\n",
       "      <th>Name</th>\n",
       "      <th>Short description</th>\n",
       "      <th>Gender</th>\n",
       "      <th>Occupation</th>\n",
       "      <th>Age of death</th>\n",
       "    </tr>\n",
       "  </thead>\n",
       "  <tbody>\n",
       "    <tr>\n",
       "      <th>393308</th>\n",
       "      <td>Thomas Webb</td>\n",
       "      <td>English philosopher, barrister and literary cr...</td>\n",
       "      <td>Male</td>\n",
       "      <td>Barrister; philosopher</td>\n",
       "      <td>82.0</td>\n",
       "    </tr>\n",
       "    <tr>\n",
       "      <th>414655</th>\n",
       "      <td>Thomas Webb</td>\n",
       "      <td>Member of the Parliament of Great Britain for ...</td>\n",
       "      <td>Male</td>\n",
       "      <td>Politician</td>\n",
       "      <td>71.0</td>\n",
       "    </tr>\n",
       "    <tr>\n",
       "      <th>761177</th>\n",
       "      <td>Thomas Webb</td>\n",
       "      <td>English glassmaker</td>\n",
       "      <td>Male</td>\n",
       "      <td>Businessperson</td>\n",
       "      <td>65.0</td>\n",
       "    </tr>\n",
       "    <tr>\n",
       "      <th>763981</th>\n",
       "      <td>Thomas Webb</td>\n",
       "      <td>Australian barrister and judge</td>\n",
       "      <td>Male</td>\n",
       "      <td>Judge</td>\n",
       "      <td>71.0</td>\n",
       "    </tr>\n",
       "    <tr>\n",
       "      <th>917064</th>\n",
       "      <td>Thomas Webb</td>\n",
       "      <td>British soldier and Methodist</td>\n",
       "      <td>Male</td>\n",
       "      <td>Military personnel</td>\n",
       "      <td>72.0</td>\n",
       "    </tr>\n",
       "  </tbody>\n",
       "</table>\n",
       "</div>"
      ],
      "text/plain": [
       "               Name                                  Short description Gender  \\\n",
       "393308  Thomas Webb  English philosopher, barrister and literary cr...   Male   \n",
       "414655  Thomas Webb  Member of the Parliament of Great Britain for ...   Male   \n",
       "761177  Thomas Webb                                 English glassmaker   Male   \n",
       "763981  Thomas Webb                     Australian barrister and judge   Male   \n",
       "917064  Thomas Webb                      British soldier and Methodist   Male   \n",
       "\n",
       "                    Occupation  Age of death  \n",
       "393308  Barrister; philosopher          82.0  \n",
       "414655              Politician          71.0  \n",
       "761177          Businessperson          65.0  \n",
       "763981                   Judge          71.0  \n",
       "917064      Military personnel          72.0  "
      ]
     },
     "execution_count": 25,
     "metadata": {},
     "output_type": "execute_result"
    }
   ],
   "source": [
    "data1[data1['Name'] =='Thomas Webb']"
   ]
  },
  {
   "cell_type": "code",
   "execution_count": 26,
   "id": "7e945f3c",
   "metadata": {
    "scrolled": true
   },
   "outputs": [
    {
     "data": {
      "text/html": [
       "<div>\n",
       "<style scoped>\n",
       "    .dataframe tbody tr th:only-of-type {\n",
       "        vertical-align: middle;\n",
       "    }\n",
       "\n",
       "    .dataframe tbody tr th {\n",
       "        vertical-align: top;\n",
       "    }\n",
       "\n",
       "    .dataframe thead th {\n",
       "        text-align: right;\n",
       "    }\n",
       "</style>\n",
       "<table border=\"1\" class=\"dataframe\">\n",
       "  <thead>\n",
       "    <tr style=\"text-align: right;\">\n",
       "      <th></th>\n",
       "      <th>Name</th>\n",
       "      <th>Gender</th>\n",
       "      <th>Country</th>\n",
       "      <th>Birth year</th>\n",
       "      <th>Death year</th>\n",
       "      <th>Manner of death</th>\n",
       "    </tr>\n",
       "  </thead>\n",
       "  <tbody>\n",
       "    <tr>\n",
       "      <th>286495</th>\n",
       "      <td>Thomas Webb</td>\n",
       "      <td>1.0</td>\n",
       "      <td>United Kingdom of Great Britain and Ireland</td>\n",
       "      <td>1821</td>\n",
       "      <td>1903.0</td>\n",
       "      <td>NaN</td>\n",
       "    </tr>\n",
       "    <tr>\n",
       "      <th>449993</th>\n",
       "      <td>Thomas Webb</td>\n",
       "      <td>1.0</td>\n",
       "      <td>NaN</td>\n",
       "      <td>1804</td>\n",
       "      <td>1869.0</td>\n",
       "      <td>NaN</td>\n",
       "    </tr>\n",
       "    <tr>\n",
       "      <th>521947</th>\n",
       "      <td>Thomas Webb</td>\n",
       "      <td>1.0</td>\n",
       "      <td>NaN</td>\n",
       "      <td>1724</td>\n",
       "      <td>1796.0</td>\n",
       "      <td>NaN</td>\n",
       "    </tr>\n",
       "    <tr>\n",
       "      <th>578052</th>\n",
       "      <td>Thomas Webb</td>\n",
       "      <td>1.0</td>\n",
       "      <td>NaN</td>\n",
       "      <td>1663</td>\n",
       "      <td>1734.0</td>\n",
       "      <td>NaN</td>\n",
       "    </tr>\n",
       "  </tbody>\n",
       "</table>\n",
       "</div>"
      ],
      "text/plain": [
       "               Name  Gender                                      Country  \\\n",
       "286495  Thomas Webb     1.0  United Kingdom of Great Britain and Ireland   \n",
       "449993  Thomas Webb     1.0                                          NaN   \n",
       "521947  Thomas Webb     1.0                                          NaN   \n",
       "578052  Thomas Webb     1.0                                          NaN   \n",
       "\n",
       "        Birth year  Death year Manner of death  \n",
       "286495        1821      1903.0             NaN  \n",
       "449993        1804      1869.0             NaN  \n",
       "521947        1724      1796.0             NaN  \n",
       "578052        1663      1734.0             NaN  "
      ]
     },
     "execution_count": 26,
     "metadata": {},
     "output_type": "execute_result"
    }
   ],
   "source": [
    "data2[data2['Name'] =='Thomas Webb']"
   ]
  },
  {
   "cell_type": "code",
   "execution_count": 27,
   "id": "b5961fe5",
   "metadata": {},
   "outputs": [
    {
     "data": {
      "text/html": [
       "<div>\n",
       "<style scoped>\n",
       "    .dataframe tbody tr th:only-of-type {\n",
       "        vertical-align: middle;\n",
       "    }\n",
       "\n",
       "    .dataframe tbody tr th {\n",
       "        vertical-align: top;\n",
       "    }\n",
       "\n",
       "    .dataframe thead th {\n",
       "        text-align: right;\n",
       "    }\n",
       "</style>\n",
       "<table border=\"1\" class=\"dataframe\">\n",
       "  <thead>\n",
       "    <tr style=\"text-align: right;\">\n",
       "      <th></th>\n",
       "      <th>Name</th>\n",
       "      <th>Short description</th>\n",
       "      <th>Gender</th>\n",
       "      <th>Occupation</th>\n",
       "      <th>Age of death</th>\n",
       "    </tr>\n",
       "  </thead>\n",
       "  <tbody>\n",
       "    <tr>\n",
       "      <th>194376</th>\n",
       "      <td>William Ashton</td>\n",
       "      <td>English Member of Parliament (1589-1659)</td>\n",
       "      <td>Male</td>\n",
       "      <td>Politician</td>\n",
       "      <td>70.0</td>\n",
       "    </tr>\n",
       "    <tr>\n",
       "      <th>440950</th>\n",
       "      <td>William Ashton</td>\n",
       "      <td>kunstschilder</td>\n",
       "      <td>Male</td>\n",
       "      <td>Artist</td>\n",
       "      <td>74.0</td>\n",
       "    </tr>\n",
       "    <tr>\n",
       "      <th>732597</th>\n",
       "      <td>William Ashton</td>\n",
       "      <td>politician</td>\n",
       "      <td>Male</td>\n",
       "      <td>Politician</td>\n",
       "      <td>71.0</td>\n",
       "    </tr>\n",
       "    <tr>\n",
       "      <th>917042</th>\n",
       "      <td>William Ashton</td>\n",
       "      <td>English Chartist; weaver; transported to Austr...</td>\n",
       "      <td>Male</td>\n",
       "      <td>Artist</td>\n",
       "      <td>71.0</td>\n",
       "    </tr>\n",
       "  </tbody>\n",
       "</table>\n",
       "</div>"
      ],
      "text/plain": [
       "                  Name                                  Short description  \\\n",
       "194376  William Ashton           English Member of Parliament (1589-1659)   \n",
       "440950  William Ashton                                      kunstschilder   \n",
       "732597  William Ashton                                         politician   \n",
       "917042  William Ashton  English Chartist; weaver; transported to Austr...   \n",
       "\n",
       "       Gender  Occupation  Age of death  \n",
       "194376   Male  Politician          70.0  \n",
       "440950   Male      Artist          74.0  \n",
       "732597   Male  Politician          71.0  \n",
       "917042   Male      Artist          71.0  "
      ]
     },
     "execution_count": 27,
     "metadata": {},
     "output_type": "execute_result"
    }
   ],
   "source": [
    "data1[data1['Name']=='William Ashton']"
   ]
  },
  {
   "cell_type": "code",
   "execution_count": 28,
   "id": "790f8d3b",
   "metadata": {},
   "outputs": [
    {
     "data": {
      "text/html": [
       "<div>\n",
       "<style scoped>\n",
       "    .dataframe tbody tr th:only-of-type {\n",
       "        vertical-align: middle;\n",
       "    }\n",
       "\n",
       "    .dataframe tbody tr th {\n",
       "        vertical-align: top;\n",
       "    }\n",
       "\n",
       "    .dataframe thead th {\n",
       "        text-align: right;\n",
       "    }\n",
       "</style>\n",
       "<table border=\"1\" class=\"dataframe\">\n",
       "  <thead>\n",
       "    <tr style=\"text-align: right;\">\n",
       "      <th></th>\n",
       "      <th>Name</th>\n",
       "      <th>Gender</th>\n",
       "      <th>Country</th>\n",
       "      <th>Birth year</th>\n",
       "      <th>Death year</th>\n",
       "      <th>Manner of death</th>\n",
       "    </tr>\n",
       "  </thead>\n",
       "  <tbody>\n",
       "    <tr>\n",
       "      <th>218242</th>\n",
       "      <td>William Ashton</td>\n",
       "      <td>1.0</td>\n",
       "      <td>NaN</td>\n",
       "      <td>1806</td>\n",
       "      <td>1877.0</td>\n",
       "      <td>NaN</td>\n",
       "    </tr>\n",
       "    <tr>\n",
       "      <th>621529</th>\n",
       "      <td>William Ashton</td>\n",
       "      <td>1.0</td>\n",
       "      <td>Kingdom of England</td>\n",
       "      <td>1589</td>\n",
       "      <td>1659.0</td>\n",
       "      <td>NaN</td>\n",
       "    </tr>\n",
       "    <tr>\n",
       "      <th>675389</th>\n",
       "      <td>William Ashton</td>\n",
       "      <td>1.0</td>\n",
       "      <td>NaN</td>\n",
       "      <td>1853</td>\n",
       "      <td>1927.0</td>\n",
       "      <td>NaN</td>\n",
       "    </tr>\n",
       "  </tbody>\n",
       "</table>\n",
       "</div>"
      ],
      "text/plain": [
       "                  Name  Gender             Country  Birth year  Death year  \\\n",
       "218242  William Ashton     1.0                 NaN        1806      1877.0   \n",
       "621529  William Ashton     1.0  Kingdom of England        1589      1659.0   \n",
       "675389  William Ashton     1.0                 NaN        1853      1927.0   \n",
       "\n",
       "       Manner of death  \n",
       "218242             NaN  \n",
       "621529             NaN  \n",
       "675389             NaN  "
      ]
     },
     "execution_count": 28,
     "metadata": {},
     "output_type": "execute_result"
    }
   ],
   "source": [
    "data2[data2['Name']=='William Ashton']"
   ]
  },
  {
   "cell_type": "code",
   "execution_count": 29,
   "id": "be89a7dd",
   "metadata": {},
   "outputs": [
    {
     "data": {
      "text/html": [
       "<div>\n",
       "<style scoped>\n",
       "    .dataframe tbody tr th:only-of-type {\n",
       "        vertical-align: middle;\n",
       "    }\n",
       "\n",
       "    .dataframe tbody tr th {\n",
       "        vertical-align: top;\n",
       "    }\n",
       "\n",
       "    .dataframe thead th {\n",
       "        text-align: right;\n",
       "    }\n",
       "</style>\n",
       "<table border=\"1\" class=\"dataframe\">\n",
       "  <thead>\n",
       "    <tr style=\"text-align: right;\">\n",
       "      <th></th>\n",
       "      <th>Name</th>\n",
       "      <th>Short description</th>\n",
       "      <th>Gender</th>\n",
       "      <th>Occupation</th>\n",
       "      <th>Age of death</th>\n",
       "    </tr>\n",
       "  </thead>\n",
       "  <tbody>\n",
       "    <tr>\n",
       "      <th>437</th>\n",
       "      <td>Joseph Townsend</td>\n",
       "      <td>English politician</td>\n",
       "      <td>Male</td>\n",
       "      <td>Politician</td>\n",
       "      <td>59.0</td>\n",
       "    </tr>\n",
       "    <tr>\n",
       "      <th>6093</th>\n",
       "      <td>Joseph Townsend</td>\n",
       "      <td>British geologist</td>\n",
       "      <td>Male</td>\n",
       "      <td>Researcher</td>\n",
       "      <td>77.0</td>\n",
       "    </tr>\n",
       "  </tbody>\n",
       "</table>\n",
       "</div>"
      ],
      "text/plain": [
       "                 Name   Short description Gender  Occupation  Age of death\n",
       "437   Joseph Townsend  English politician   Male  Politician          59.0\n",
       "6093  Joseph Townsend   British geologist   Male  Researcher          77.0"
      ]
     },
     "execution_count": 29,
     "metadata": {},
     "output_type": "execute_result"
    }
   ],
   "source": [
    "data1[data1['Name']=='Joseph Townsend']"
   ]
  },
  {
   "cell_type": "code",
   "execution_count": 30,
   "id": "3b5f5199",
   "metadata": {
    "scrolled": false
   },
   "outputs": [
    {
     "data": {
      "text/html": [
       "<div>\n",
       "<style scoped>\n",
       "    .dataframe tbody tr th:only-of-type {\n",
       "        vertical-align: middle;\n",
       "    }\n",
       "\n",
       "    .dataframe tbody tr th {\n",
       "        vertical-align: top;\n",
       "    }\n",
       "\n",
       "    .dataframe thead th {\n",
       "        text-align: right;\n",
       "    }\n",
       "</style>\n",
       "<table border=\"1\" class=\"dataframe\">\n",
       "  <thead>\n",
       "    <tr style=\"text-align: right;\">\n",
       "      <th></th>\n",
       "      <th>Name</th>\n",
       "      <th>Gender</th>\n",
       "      <th>Country</th>\n",
       "      <th>Birth year</th>\n",
       "      <th>Death year</th>\n",
       "      <th>Manner of death</th>\n",
       "    </tr>\n",
       "  </thead>\n",
       "  <tbody>\n",
       "    <tr>\n",
       "      <th>406859</th>\n",
       "      <td>Joseph Townsend</td>\n",
       "      <td>1.0</td>\n",
       "      <td>NaN</td>\n",
       "      <td>1704</td>\n",
       "      <td>1763.0</td>\n",
       "      <td>NaN</td>\n",
       "    </tr>\n",
       "    <tr>\n",
       "      <th>493014</th>\n",
       "      <td>Joseph Townsend</td>\n",
       "      <td>1.0</td>\n",
       "      <td>NaN</td>\n",
       "      <td>1739</td>\n",
       "      <td>1816.0</td>\n",
       "      <td>NaN</td>\n",
       "    </tr>\n",
       "  </tbody>\n",
       "</table>\n",
       "</div>"
      ],
      "text/plain": [
       "                   Name  Gender Country  Birth year  Death year  \\\n",
       "406859  Joseph Townsend     1.0     NaN        1704      1763.0   \n",
       "493014  Joseph Townsend     1.0     NaN        1739      1816.0   \n",
       "\n",
       "       Manner of death  \n",
       "406859             NaN  \n",
       "493014             NaN  "
      ]
     },
     "execution_count": 30,
     "metadata": {},
     "output_type": "execute_result"
    }
   ],
   "source": [
    "data2[data2['Name']=='Joseph Townsend']"
   ]
  },
  {
   "cell_type": "code",
   "execution_count": 31,
   "id": "2605439a",
   "metadata": {},
   "outputs": [
    {
     "data": {
      "text/plain": [
       "2056"
      ]
     },
     "execution_count": 31,
     "metadata": {},
     "output_type": "execute_result"
    }
   ],
   "source": [
    "data2['Birth year'].nunique()"
   ]
  },
  {
   "cell_type": "code",
   "execution_count": 32,
   "id": "db9529f0",
   "metadata": {},
   "outputs": [
    {
     "data": {
      "text/plain": [
       "0         84.0\n",
       "1         68.0\n",
       "2         61.0\n",
       "3         74.0\n",
       "4         60.0\n",
       "          ... \n",
       "855984    64.0\n",
       "855985    61.0\n",
       "855986    63.0\n",
       "855987    68.0\n",
       "855988    55.0\n",
       "Length: 855989, dtype: float64"
      ]
     },
     "execution_count": 32,
     "metadata": {},
     "output_type": "execute_result"
    }
   ],
   "source": [
    "data2['Death year'] - data2['Birth year']"
   ]
  },
  {
   "cell_type": "markdown",
   "id": "e8ed8e83",
   "metadata": {},
   "source": [
    "#### After exploring the data:\n",
    "- we will join the two tables using the name and the age, age will be extracted from birth and death years \n",
    "- we will rename the following columns :\n",
    "\n",
    "    1) dataset1:\n",
    "        Short description -> short_description\n",
    "        Age of death -> Age_of_death\n",
    "    2) dataset2:\n",
    "        Birth year -> Birth_year\n",
    "        Death year -> Death_year\n",
    "        Manner of death -> death_reason\n",
    "- we will transform the following columns\n",
    "\n",
    "    1) dataset1:\n",
    "        Age of death -> from float to integer\n",
    "    2) dataset2:\n",
    "        Gender -> will be male/female, transform the data type to string rather than float\n",
    "- we will create a new column in dataset2 \n",
    "        Age_of_death = Death year - Birth year"
   ]
  },
  {
   "cell_type": "code",
   "execution_count": null,
   "id": "16a62465",
   "metadata": {},
   "outputs": [],
   "source": []
  },
  {
   "cell_type": "code",
   "execution_count": null,
   "id": "314e12b8",
   "metadata": {},
   "outputs": [],
   "source": []
  }
 ],
 "metadata": {
  "kernelspec": {
   "display_name": "Python 3 (ipykernel)",
   "language": "python",
   "name": "python3"
  },
  "language_info": {
   "codemirror_mode": {
    "name": "ipython",
    "version": 3
   },
   "file_extension": ".py",
   "mimetype": "text/x-python",
   "name": "python",
   "nbconvert_exporter": "python",
   "pygments_lexer": "ipython3",
   "version": "3.9.12"
  }
 },
 "nbformat": 4,
 "nbformat_minor": 5
}
